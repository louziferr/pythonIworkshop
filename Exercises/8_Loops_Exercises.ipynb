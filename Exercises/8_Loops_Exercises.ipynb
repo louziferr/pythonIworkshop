{
 "cells": [
  {
   "cell_type": "markdown",
   "metadata": {},
   "source": [
    "# Loops"
   ]
  },
  {
   "cell_type": "markdown",
   "metadata": {},
   "source": [
    "## For Loops"
   ]
  },
  {
   "cell_type": "markdown",
   "metadata": {},
   "source": [
    "### Variance\n",
    "This excercise is on a list of numbers that we read in from a textfile. Reading in the textfile and creating a list from the numbers in it is done in the cell below (what happens there will be covered later). Execute the cell below before you start with the excercise."
   ]
  },
  {
   "cell_type": "code",
   "execution_count": 1,
   "metadata": {},
   "outputs": [],
   "source": [
    "# the following two lines read in all the lines from the file numbers.txt as a list\n",
    "with open(\"numbers.txt\") as f:\n",
    "    numbers = f.readlines()\n",
    "    \n",
    "# the following list comprehensions converts the elements in that list from strings to floats\n",
    "numbers = [float(n) for n in numbers]"
   ]
  },
  {
   "cell_type": "markdown",
   "metadata": {},
   "source": [
    "Calculate the variance\n",
    "            \n",
    "$Var = \\frac{1}{n} \\sum_{i=1}^{n} (x_i - \\mu)^2$  \n",
    "\n",
    "$\\mu$ is the mean\n",
    "\n",
    "of the numbers from the list 'numbers' using a for loop."
   ]
  },
  {
   "cell_type": "code",
   "execution_count": 2,
   "metadata": {},
   "outputs": [],
   "source": [
    "# your code"
   ]
  },
  {
   "cell_type": "markdown",
   "metadata": {},
   "source": [
    "The result is 25.4655."
   ]
  },
  {
   "cell_type": "markdown",
   "metadata": {},
   "source": [
    "### NYC marathon winners\n",
    "\n",
    "Here's a (nested) list of the female NYC marathon winners from wikipedia. https://en.wikipedia.org/wiki/List_of_winners_of_the_New_York_City_Marathon in the format\n",
    "\n",
    "            [['Year 1', 'Winner 1, 'Country 1', 'Time 1', 'Notes 1'],\n",
    "             ['Year 2', 'Winner 2, 'Country 2', 'Time 2', 'Notes 2'], \n",
    "             ...]]\n",
    "The follwing cell reads in the list from the file *female_winners.csv* and modifies the list to match the format above. Reading in the file will be covered later, but you could figure out what happens in the list comprehension. Otherwise, just execute the cell before starting with the excercise."
   ]
  },
  {
   "cell_type": "code",
   "execution_count": 3,
   "metadata": {},
   "outputs": [],
   "source": [
    "with open(\"female_winners.csv\") as f:\n",
    "    winners = f.readlines()\n",
    "\n",
    "winners = [entry.replace(\"\\n\",\"\").split(\",\") for entry in winners]\n",
    "winners = winners[1:]"
   ]
  },
  {
   "cell_type": "markdown",
   "metadata": {},
   "source": [
    "The task is to make a list of the countries of the winners. Each country should appear only once in the list!\n",
    "\n",
    "*Hint*: Use an if statement which tests membership in a list:\n",
    "                                   \n",
    "                                   element in list\n",
    " or\n",
    " \n",
    "                                   element not in list\n",
    " \n",
    " "
   ]
  },
  {
   "cell_type": "code",
   "execution_count": 4,
   "metadata": {},
   "outputs": [],
   "source": [
    "# your code"
   ]
  },
  {
   "cell_type": "markdown",
   "metadata": {},
   "source": [
    "The result is:\n",
    "\n",
    "['United States',\n",
    " 'Norway',\n",
    " 'New Zealand',\n",
    " 'United Kingdom',\n",
    " 'Poland',\n",
    " 'Australia',\n",
    " 'Germany',\n",
    " 'Kenya',\n",
    " 'Romania',\n",
    " 'Switzerland',\n",
    " 'Italy',\n",
    " 'Mexico',\n",
    " 'Russia',\n",
    " 'Latvia',\n",
    " 'Ethiopia']"
   ]
  },
  {
   "cell_type": "markdown",
   "metadata": {},
   "source": [
    "## List Comprehensions"
   ]
  },
  {
   "cell_type": "markdown",
   "metadata": {},
   "source": [
    "Make a list comprehension that creates a list containing the numbers in the list 'numbers' multiplied by 5. Only include the positive numbers though."
   ]
  },
  {
   "cell_type": "code",
   "execution_count": 5,
   "metadata": {},
   "outputs": [],
   "source": [
    "# your code"
   ]
  }
 ],
 "metadata": {
  "kernelspec": {
   "display_name": "Python 3",
   "language": "python",
   "name": "python3"
  },
  "language_info": {
   "codemirror_mode": {
    "name": "ipython",
    "version": 3
   },
   "file_extension": ".py",
   "mimetype": "text/x-python",
   "name": "python",
   "nbconvert_exporter": "python",
   "pygments_lexer": "ipython3",
   "version": "3.12.0"
  }
 },
 "nbformat": 4,
 "nbformat_minor": 4
}
