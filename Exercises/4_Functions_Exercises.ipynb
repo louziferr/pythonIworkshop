{
 "cells": [
  {
   "cell_type": "markdown",
   "metadata": {},
   "source": [
    "# Simple sum\n",
    "\n",
    "Define a function called \"add\" with two arguments that returns the sum of these arguments."
   ]
  },
  {
   "cell_type": "code",
   "execution_count": 2,
   "metadata": {},
   "outputs": [],
   "source": [
    "def add(number1, number2):\n",
    "    return number1+number2"
   ]
  },
  {
   "cell_type": "markdown",
   "metadata": {},
   "source": [
    "**Test**"
   ]
  },
  {
   "cell_type": "code",
   "execution_count": 3,
   "metadata": {},
   "outputs": [
    {
     "name": "stdout",
     "output_type": "stream",
     "text": [
      "Correct.\n"
     ]
    }
   ],
   "source": [
    "if add(2,3)==5:\n",
    "    print(\"Correct.\")\n",
    "else:\n",
    "    print(\"Not correct.\")"
   ]
  },
  {
   "cell_type": "markdown",
   "metadata": {},
   "source": [
    "# Greetings\n",
    "\n",
    "Define a function called \"greetings\" with two arguments. The first argument is for a string like \"Hello\" or \"Goodbye\", the second argument is for a name. The second argument should have a default value, namely \"stranger\". The function just prints out the two strings (example: Hello Adam) but returns nothing."
   ]
  },
  {
   "cell_type": "code",
   "execution_count": 26,
   "metadata": {},
   "outputs": [],
   "source": [
    "def greetings(greeting, name=None):\n",
    "    if name is None:\n",
    "        print(greeting + ' stranger!')\n",
    "    else:\n",
    "        print(greeting + \" \" + name)"
   ]
  },
  {
   "cell_type": "markdown",
   "metadata": {},
   "source": [
    "**Test**\n",
    "\n",
    "should read:\n",
    "\n",
    "Hello stranger\n",
    "\n",
    "Good morning Adam"
   ]
  },
  {
   "cell_type": "code",
   "execution_count": 27,
   "metadata": {},
   "outputs": [
    {
     "name": "stdout",
     "output_type": "stream",
     "text": [
      "Hello stranger!\n",
      "Good morning Adam\n"
     ]
    }
   ],
   "source": [
    "greetings(\"Hello\")\n",
    "\n",
    "greetings(\"Good morning\", \"Adam\")"
   ]
  },
  {
   "cell_type": "code",
   "execution_count": 36,
   "metadata": {},
   "outputs": [
    {
     "data": {
      "text/plain": [
       "'a-b-c'"
      ]
     },
     "execution_count": 36,
     "metadata": {},
     "output_type": "execute_result"
    }
   ],
   "source": [
    "\"-\".join([\"a\", \"b\", \"c\"])"
   ]
  }
 ],
 "metadata": {
  "kernelspec": {
   "display_name": "Python 3",
   "language": "python",
   "name": "python3"
  },
  "language_info": {
   "codemirror_mode": {
    "name": "ipython",
    "version": 3
   },
   "file_extension": ".py",
   "mimetype": "text/x-python",
   "name": "python",
   "nbconvert_exporter": "python",
   "pygments_lexer": "ipython3",
   "version": "3.12.0"
  }
 },
 "nbformat": 4,
 "nbformat_minor": 4
}
