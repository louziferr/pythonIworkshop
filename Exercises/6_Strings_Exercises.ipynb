{
 "cells": [
  {
   "cell_type": "markdown",
   "metadata": {},
   "source": [
    "# IBAN\n",
    "\n",
    "We'll start with a simple excercise.\n",
    "\n",
    "![](IBAN_de.png)\n",
    "Source: https://en.wikipedia.org/wiki/International_Bank_Account_Number\n",
    "\n",
    "From an IBAN number, slice out only the account number, which makes up the last ten places of the IBAN (picure above).\n"
   ]
  },
  {
   "cell_type": "code",
   "execution_count": 1,
   "metadata": {},
   "outputs": [],
   "source": [
    "IBAN = \"DE98764374623748372374\""
   ]
  },
  {
   "cell_type": "markdown",
   "metadata": {},
   "source": [
    "Test:"
   ]
  },
  {
   "cell_type": "code",
   "execution_count": 2,
   "metadata": {},
   "outputs": [],
   "source": [
    "account_number = '3748372374'"
   ]
  },
  {
   "cell_type": "markdown",
   "metadata": {},
   "source": [
    "# Encrypt ... \n",
    "\n",
    "### ... a message\n",
    "\n",
    "Replace all \"a\" characters by the character \"+\". Then, replace all occurences of the second character in the message by a \"-\". Lastly, reverse the string."
   ]
  },
  {
   "cell_type": "code",
   "execution_count": 5,
   "metadata": {},
   "outputs": [],
   "source": [
    "message = \"We'll meet at the fountain in the park at three pm. I'll wear a red shirt.\""
   ]
  },
  {
   "cell_type": "markdown",
   "metadata": {},
   "source": [
    "Test:"
   ]
  },
  {
   "cell_type": "code",
   "execution_count": 6,
   "metadata": {},
   "outputs": [
    {
     "data": {
      "text/plain": [
       "True"
      ]
     },
     "execution_count": 6,
     "metadata": {},
     "output_type": "execute_result"
    }
   ],
   "source": [
    "encrypt == \".trihs d-r + r+-w ll'I .mp --rht t+ kr+p -ht ni ni+tnuof -ht t+ t--m ll'-W\""
   ]
  },
  {
   "cell_type": "markdown",
   "metadata": {},
   "source": [
    "### ... a PIN number\n",
    "\n",
    "First, test whether the given PIN consists of only numbers.\n",
    "Then, starting at the first occurence of \"00\", replace all \"1\" by 9 and all \"0\" by \"3\". Leave the PIN before the first occurence of \"00\" unchanged."
   ]
  },
  {
   "cell_type": "code",
   "execution_count": null,
   "metadata": {},
   "outputs": [],
   "source": [
    "def PIN_encrypt(pin):\n",
    "    is_digit = # your code #\n",
    "    if is_digit:\n",
    "        ### your code ###\n",
    "        return ### your code ###\n",
    "    else:\n",
    "        raise ValueError(\"PIN_encrypt only handles strings of digits\")"
   ]
  },
  {
   "cell_type": "markdown",
   "metadata": {},
   "source": [
    "Test: The function is called with interesting inputs. Compare them to the correct results."
   ]
  },
  {
   "cell_type": "code",
   "execution_count": null,
   "metadata": {},
   "outputs": [],
   "source": [
    "test_pin_1 = \"0031095\"\n",
    "test_pin_2 = \"0013800\"\n",
    "test_pin_3 = \"3001300\"\n",
    "test_pin_4 = \"3434554\"\n",
    "\n",
    "print(PIN_encrypt(test_pin_1), '0039395')\n",
    "print(PIN_encrypt(test_pin_2), '0093833')\n",
    "print(PIN_encrypt(test_pin_3), '3009333')\n",
    "print(PIN_encrypt(test_pin_4), '3434554')"
   ]
  },
  {
   "cell_type": "markdown",
   "metadata": {},
   "source": [
    "Test with invalid input:"
   ]
  },
  {
   "cell_type": "code",
   "execution_count": null,
   "metadata": {},
   "outputs": [],
   "source": [
    "test_pin_5 = \"gfd34333\"\n",
    "PIN_encrypt(test_pin_5)"
   ]
  },
  {
   "cell_type": "markdown",
   "metadata": {},
   "source": [
    "# Formatting\n",
    "\n",
    "Write a function, that helps you to protocol an experiment with test persons.\n",
    "The inputs are (1) the name of the test person, (2) a boolean stating whether the test person wears glasses or not, (3) the age of the person as an integer.\n",
    "\n",
    "The output should be\n",
    "\n",
    "\"Subject Alice; glasses yes; age 34\" for (Alice, True, 34)\n",
    "\n",
    "\"Subject Bob; glasses no; age 17\" for (Bob, False, 17)"
   ]
  },
  {
   "cell_type": "code",
   "execution_count": null,
   "metadata": {},
   "outputs": [],
   "source": [
    "def subject_to_string(name, glasses, age):\n",
    "    if glasses:\n",
    "       ### your code ###\n",
    "    else:\n",
    "        ### your code ###\n",
    "    \n",
    "    subject_string = ### your code ###\n",
    "    \n",
    "    return subject_string"
   ]
  },
  {
   "cell_type": "markdown",
   "metadata": {},
   "source": [
    "Test:"
   ]
  },
  {
   "cell_type": "code",
   "execution_count": null,
   "metadata": {},
   "outputs": [],
   "source": [
    "print(subject_to_string(\"Alice\", True, 34), \"Subject Alice; glasses yes, age 34\")\n",
    "print(subject_to_string(\"Bob\", False, 17), \"Subject Bob; glasses no, age 17\")"
   ]
  },
  {
   "cell_type": "markdown",
   "metadata": {},
   "source": [
    "# Not bad!\n",
    "\n",
    "Taken fŕom: https://developers.google.com/edu/python/exercises/basic\n",
    "\n",
    "Given a string, find the first appearance of the\n",
    "substring 'not' and 'bad'. If the 'bad' follows\n",
    "the 'not', replace the whole 'not'...'bad' substring\n",
    "with 'good'.\n",
    "Return the resulting string.\n",
    "\n",
    "So 'This dinner is not that bad!' yields:\n",
    "This dinner is good!\n",
    "\n",
    "**Hint**: You might find *regular expressions* when googeling for this problem. You don't need them here. Use string slicing instead! (You know the length of the word \"bad\" ;) )"
   ]
  },
  {
   "cell_type": "code",
   "execution_count": null,
   "metadata": {},
   "outputs": [],
   "source": [
    "def not_bad(sentence):\n",
    "    not_index = ### your code ###\n",
    "    bad_index = ### your code ###\n",
    "    if ### your code ###:\n",
    "        ### your code ###\n",
    "        return ### your code ###\n",
    "    else:\n",
    "        return sentence\n"
   ]
  },
  {
   "cell_type": "markdown",
   "metadata": {},
   "source": [
    "Test:"
   ]
  },
  {
   "cell_type": "code",
   "execution_count": null,
   "metadata": {},
   "outputs": [],
   "source": [
    "s1 = \"This is a bad dinner. I did not excpect that.\"\n",
    "s2 = \"This dinner was great!\"\n",
    "s3 = \"This dinner is not that bad!\"\n",
    "s4 = 'This tea is not hot'\n",
    "\n",
    "print(not_bad(s1), \"    Correct:\", 'This is a bad dinner. I did not excpect that.')\n",
    "print(not_bad(s2),  \"    Correct:\", 'This dinner was great!') \n",
    "print(not_bad(s3), \"    Correct:\", 'This dinner is good!')\n",
    "print(not_bad(s4), \"    Correct:\", 'This tea is not hot')"
   ]
  }
 ],
 "metadata": {
  "kernelspec": {
   "display_name": "Python 3",
   "language": "python",
   "name": "python3"
  },
  "language_info": {
   "codemirror_mode": {
    "name": "ipython",
    "version": 3
   },
   "file_extension": ".py",
   "mimetype": "text/x-python",
   "name": "python",
   "nbconvert_exporter": "python",
   "pygments_lexer": "ipython3",
   "version": "3.11.4"
  }
 },
 "nbformat": 4,
 "nbformat_minor": 4
}
