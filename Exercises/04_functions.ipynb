{
 "cells": [
  {
   "cell_type": "markdown",
   "metadata": {},
   "source": [
    "### Exercise: Functions\n",
    "\n",
    "- Defining and Calling functions"
   ]
  },
  {
   "cell_type": "markdown",
   "metadata": {},
   "source": [
    "### Task 1\n",
    "\n",
    "Define a function called `add()` that takes two arguments:\n",
    "\n",
    "- `number1`: the first number\n",
    "- `number2`: the second number\n",
    "\n",
    "The function returns the sum of the two numbers."
   ]
  },
  {
   "cell_type": "code",
   "execution_count": 1,
   "metadata": {},
   "outputs": [],
   "source": [
    "### your solution ###"
   ]
  },
  {
   "cell_type": "code",
   "execution_count": 9,
   "metadata": {},
   "outputs": [],
   "source": [
    "### TESTING CELL ###\n",
    "\n",
    "# This is a cell designed for testing your function.\n",
    "# By calling 'assert()' we can check wether a given condition is True.\n",
    "# Simply run the cell to check wether you implemented your function correctly.\n",
    "\n",
    "assert(callable(add))       # passes if function add() exists\n",
    "assert(add(3, 4) == 7)      # passes if function add() sums up correctly\n",
    "assert(add(4, 2.2) == 6.2)  # passes if function add() sums up correctly"
   ]
  },
  {
   "cell_type": "markdown",
   "metadata": {},
   "source": [
    "# Task 2\n",
    "\n",
    "Define a function called `greetings()` that takes two arguments: \n",
    "\n",
    "- `greeting`: a string that represents a greeting, like `\"Hello\"` or `\"Goodbye\"`.\n",
    "- `name`: a string that represents a name, like `\"Adam\"` or `\"Clara\"`. \n",
    "\n",
    "The second argument should have a default value, namely `\"stranger\"`. \n",
    "\n",
    "The function returns the greeting followed by the name as one string."
   ]
  },
  {
   "cell_type": "code",
   "execution_count": 10,
   "metadata": {},
   "outputs": [],
   "source": [
    "### your solution ###"
   ]
  },
  {
   "cell_type": "code",
   "execution_count": 11,
   "metadata": {},
   "outputs": [],
   "source": [
    "### TESTING ###\n",
    "\n",
    "assert(callable(greetings))\n",
    "assert(greetings(\"Good morning\") == \"Good morning stranger\")\n",
    "assert(greetings(\"Hi\", \"Adam\") == \"Hi Adam\")"
   ]
  },
  {
   "cell_type": "markdown",
   "metadata": {},
   "source": [
    "### Task 3\n",
    "\n",
    "Define a function called `pythagoras()` that calulates the length of the hypthenuse in a right triangle. It takes two arguments:\n",
    "\n",
    "- `length_a`: a number representing the length of the side a.\n",
    "- `length_b`: a number representing the length of the side b.\n",
    "\n",
    "The function returns the length of the side c following the rule of pythagoras:\n",
    "\n",
    "\n",
    "$c = \\sqrt{a^2 + b^2}$ \n",
    "\n",
    "Make use of the function `sqrt()` from the python math library. This function calculates the square root of the given argument."
   ]
  },
  {
   "cell_type": "code",
   "execution_count": 22,
   "metadata": {},
   "outputs": [],
   "source": [
    "from math import sqrt\n",
    "\n",
    "### your solution ###"
   ]
  },
  {
   "cell_type": "code",
   "execution_count": 21,
   "metadata": {},
   "outputs": [],
   "source": [
    "### TESTING ###\n",
    "\n",
    "assert(callable(pythagoras))\n",
    "assert(round(pythagoras(2, 4), 4) == 4.4721)\n",
    "assert(round(pythagoras(3.3, 1), 4) == 3.4482)"
   ]
  }
 ],
 "metadata": {
  "kernelspec": {
   "display_name": "pythonWorkshop",
   "language": "python",
   "name": "python3"
  },
  "language_info": {
   "codemirror_mode": {
    "name": "ipython",
    "version": 3
   },
   "file_extension": ".py",
   "mimetype": "text/x-python",
   "name": "python",
   "nbconvert_exporter": "python",
   "pygments_lexer": "ipython3",
   "version": "3.12.0"
  }
 },
 "nbformat": 4,
 "nbformat_minor": 2
}
