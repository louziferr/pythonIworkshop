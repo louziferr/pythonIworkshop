{
 "cells": [
  {
   "cell_type": "markdown",
   "metadata": {},
   "source": [
    "# If statements"
   ]
  },
  {
   "cell_type": "markdown",
   "metadata": {},
   "source": [
    "### Converter\n",
    "\n",
    "Write a function called *converter* that takes a number as an input. The output is a zero if the number is negative. If the number is positive the output is just the number itself. Before "
   ]
  },
  {
   "cell_type": "code",
   "execution_count": 9,
   "metadata": {},
   "outputs": [],
   "source": [
    "def converter():\n",
    "    # your code here"
   ]
  },
  {
   "cell_type": "code",
   "execution_count": 10,
   "metadata": {},
   "outputs": [
    {
     "name": "stdout",
     "output_type": "stream",
     "text": [
      "correct!\n"
     ]
    }
   ],
   "source": [
    "# Test your code\n",
    "\n",
    "if converter(5)==5 and converter(-2.0)==0:\n",
    "    print(\"correct!\")\n",
    "else:\n",
    "    print(\"not correct\")"
   ]
  },
  {
   "cell_type": "markdown",
   "metadata": {},
   "source": [
    "### Largest number\n",
    "\n",
    "Write a function *largest* that returns which one of the three input numbers is the largest, ie. \"first\", \"second\" or \"third\".\n",
    "\n",
    "Example \n",
    "       \n",
    "    largest(3,19,1)\n",
    "should return the string \"second\"."
   ]
  },
  {
   "cell_type": "code",
   "execution_count": 1,
   "metadata": {},
   "outputs": [],
   "source": [
    "def largest(a,b,c):\n",
    "    if a > b:\n",
    "        if a > c:\n",
    "            return \"first\"\n",
    "        return \"third\"\n",
    "    elif b > c:\n",
    "        return \"second\"\n",
    "    return \"third\""
   ]
  },
  {
   "cell_type": "code",
   "execution_count": 2,
   "metadata": {},
   "outputs": [
    {
     "name": "stdout",
     "output_type": "stream",
     "text": [
      "correct\n"
     ]
    }
   ],
   "source": [
    "# Test your code\n",
    "\n",
    "test1 = largest(3,2,1)==\"first\"\n",
    "test2 = largest(1,3,2)==\"second\"\n",
    "test3 = largest(1,2,3)==\"third\"\n",
    "\n",
    "if test1 and test2 and test3:\n",
    "    print(\"correct\")\n",
    "else:\n",
    "    print(\"not correct\")"
   ]
  },
  {
   "cell_type": "markdown",
   "metadata": {},
   "source": [
    "### Speed check\n",
    "\n",
    "Write a function that checks the speed of car drivers. It takes one parameter which is the speed (unit km/h). It returns the number of penality points or a message.\n",
    "\n",
    "- If the speed is less than 120 km/h, it returns the string \"ok\"\n",
    "- For every 10 km/h above 120 km/h it returns one penalty point (eg. input: 160, output 4)\n",
    "- If the number of penalty points is larger than 10 it returns the string “license suspended”\n",
    "\n",
    "*Hint: use the floor division operator*"
   ]
  },
  {
   "cell_type": "code",
   "execution_count": 3,
   "metadata": {},
   "outputs": [],
   "source": [
    "def speed_check(speed):\n",
    "    if speed<120:\n",
    "        return \"ok\"\n",
    "    points = (speed - 120) // 10\n",
    "    if points > 10:\n",
    "        return \"license suspended\"\n",
    "    return points"
   ]
  },
  {
   "cell_type": "code",
   "execution_count": 4,
   "metadata": {},
   "outputs": [
    {
     "name": "stdout",
     "output_type": "stream",
     "text": [
      "correct\n"
     ]
    }
   ],
   "source": [
    "# Test your code\n",
    "\n",
    "test1 = speed_check(98)\n",
    "test2 = speed_check(144)\n",
    "test3 = speed_check(250)\n",
    "\n",
    "if test1==\"ok\" and test2==2 and test3==\"license suspended\":\n",
    "    print(\"correct\")\n",
    "else:\n",
    "    print(\"not correct\")"
   ]
  }
 ],
 "metadata": {
  "kernelspec": {
   "display_name": "Python 3",
   "language": "python",
   "name": "python3"
  },
  "language_info": {
   "codemirror_mode": {
    "name": "ipython",
    "version": 3
   },
   "file_extension": ".py",
   "mimetype": "text/x-python",
   "name": "python",
   "nbconvert_exporter": "python",
   "pygments_lexer": "ipython3",
   "version": "3.12.0"
  }
 },
 "nbformat": 4,
 "nbformat_minor": 4
}
