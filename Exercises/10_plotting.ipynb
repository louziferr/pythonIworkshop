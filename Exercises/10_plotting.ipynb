{
 "cells": [
  {
   "cell_type": "markdown",
   "metadata": {},
   "source": [
    "### Exercise: Plotting\n",
    "\n",
    "- Creating Plots"
   ]
  },
  {
   "cell_type": "code",
   "execution_count": null,
   "metadata": {},
   "outputs": [],
   "source": [
    "import matplotlib.pyplot as plt"
   ]
  },
  {
   "cell_type": "markdown",
   "metadata": {},
   "source": [
    "### Task 1\n",
    "\n",
    "You want to plot the financial growth of your new company. Given are two lists:\n",
    "\n",
    "- `time`: integers that represent the time in days\n",
    "- `income`: integers that represent the money your company made that day\n",
    "\n",
    "1. Plot the income in dependency of the time.\n",
    "\n",
    "2. Label the axes correctly. \n",
    "\n",
    "3. Give the plot a title."
   ]
  },
  {
   "cell_type": "code",
   "execution_count": 5,
   "metadata": {},
   "outputs": [],
   "source": [
    "time = [1, 2, 3, 4, 5, 6, 7, 8, 9, 10]\n",
    "income = [103, 402, 204, 302, 230, 303, 506, 708, 540, 690]\n",
    "\n",
    "### your solution ###"
   ]
  },
  {
   "cell_type": "markdown",
   "metadata": {},
   "source": [
    "### Task 2\n",
    "\n",
    "You are a ranger and want to create a graphic to show the distribution of different species in your forest.\n",
    "\n",
    "Given are two lists:\n",
    "\n",
    "- `animals`: strings that represent the names of animals\n",
    "- `percentage`: integers that represent the percentage of the animals in the forest\n",
    "\n",
    "1. Plot the distribution of the animals in a pie chart.\n",
    "\n",
    "2. Label the chart correctly.\n",
    "\n",
    "3. Give the chart a title."
   ]
  },
  {
   "cell_type": "code",
   "execution_count": 12,
   "metadata": {},
   "outputs": [],
   "source": [
    "animals = ['frogs', 'deer', 'birds', 'foxes']\n",
    "percentage = [32, 13, 48, 7]\n",
    "\n",
    "### your solution ###"
   ]
  },
  {
   "cell_type": "markdown",
   "metadata": {},
   "source": [
    "### Task 3\n",
    "\n",
    "Given is a dictionary called `farm_fruits` in the following form:\n",
    "\n",
    "- `keys`: strings that represent the name of a fruit\n",
    "- `values`: integers that represent the harvest count of that fruit\n",
    "\n",
    "1. Plot the harvest count of all fruits in a bar plot.\n",
    "\n",
    "2. Label the axes correctly.\n",
    "\n",
    "3. Give the plot a title."
   ]
  },
  {
   "cell_type": "code",
   "execution_count": null,
   "metadata": {},
   "outputs": [],
   "source": [
    "farm_fruits = {'apples': 4, 'banana': 11, 'peach': 9, 'pear': 12}\n",
    "\n",
    "### your solution ###"
   ]
  },
  {
   "cell_type": "markdown",
   "metadata": {},
   "source": [
    "### Task 4\n",
    "\n",
    "Given are three lists:\n",
    "\n",
    "- `women_in_charge`: integers that represent the percentage of women in management roles\n",
    "- `problems_in_the_world`: integers that represent the number of problems in the world\n",
    "- `years`: integers that represent years for the above lists\n",
    "\n",
    "1. Create a figure with two subplots.\n",
    "\n",
    "2. Plot the information from `women_in_charge` in the first subplot.\n",
    "\n",
    "3. Plot the information from `problems_in_the_world` in the second subplot.\n",
    "\n",
    "4. Label the axis correctly.\n",
    "\n",
    "5. Give the plot a title."
   ]
  },
  {
   "cell_type": "code",
   "execution_count": 15,
   "metadata": {},
   "outputs": [],
   "source": [
    "women_in_charge = [10, 23, 26, 38, 41, 45]\n",
    "problems_in_the_world = [99, 94, 91, 85, 79, 60]\n",
    "years = [2015, 2016, 2017, 2018, 2019, 2020]\n",
    "\n",
    "### your solution ###"
   ]
  }
 ],
 "metadata": {
  "kernelspec": {
   "display_name": "pythonWorkshop",
   "language": "python",
   "name": "python3"
  },
  "language_info": {
   "codemirror_mode": {
    "name": "ipython",
    "version": 3
   },
   "file_extension": ".py",
   "mimetype": "text/x-python",
   "name": "python",
   "nbconvert_exporter": "python",
   "pygments_lexer": "ipython3",
   "version": "3.12.0"
  }
 },
 "nbformat": 4,
 "nbformat_minor": 2
}
