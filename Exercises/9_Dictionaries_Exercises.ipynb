{
 "cells": [
  {
   "cell_type": "markdown",
   "metadata": {},
   "source": [
    "## Numbers\n",
    "\n",
    "Generate a dictionary where the keys are the numbers between 1 and 20 and the values are the square of the keys."
   ]
  },
  {
   "cell_type": "code",
   "execution_count": 8,
   "metadata": {},
   "outputs": [
    {
     "name": "stdout",
     "output_type": "stream",
     "text": [
      "{1: 1, 2: 4, 3: 9, 4: 16, 5: 25, 6: 36, 7: 49, 8: 64, 9: 81, 10: 100, 11: 121, 12: 144, 13: 169, 14: 196, 15: 225, 16: 256, 17: 289, 18: 324, 19: 361, 20: 400}\n"
     ]
    }
   ],
   "source": [
    "result = {}\n",
    "\n",
    "for i in range(1, 21):\n",
    "    result[i] = i**2\n",
    "\n",
    "print(result)"
   ]
  },
  {
   "cell_type": "code",
   "execution_count": 9,
   "metadata": {},
   "outputs": [
    {
     "name": "stdout",
     "output_type": "stream",
     "text": [
      "{1: 1, 2: 4, 3: 9, 4: 16, 5: 25, 6: 36, 7: 49, 8: 64, 9: 81, 10: 100, 11: 121, 12: 144, 13: 169, 14: 196, 15: 225, 16: 256, 17: 289, 18: 324, 19: 361, 20: 400}\n"
     ]
    }
   ],
   "source": [
    "result = {i:i**2 for i in range(1, 21)}\n",
    "\n",
    "print(result)"
   ]
  },
  {
   "cell_type": "markdown",
   "metadata": {},
   "source": [
    "The result is\n",
    "\n",
    "    {1: 1, 2: 4, 3: 9, 4: 16, 5: 25, 6: 36, 7: 49, 8: 64, 9: 81, 10: 100, 11: 121, 12: 144, 13: 169, 14: 196, 15: 225, 16: 256, 17: 289, 18: 324, 19: 361, 20: 400}\n"
   ]
  },
  {
   "cell_type": "markdown",
   "metadata": {},
   "source": [
    "Update the dictionary from above with the given dictionary *additional_dict*"
   ]
  },
  {
   "cell_type": "code",
   "execution_count": 10,
   "metadata": {},
   "outputs": [
    {
     "name": "stdout",
     "output_type": "stream",
     "text": [
      "{1: 1, 2: 4, 3: 9, 4: 16, 5: 25, 6: 36, 7: 49, 8: 64, 9: 81, 10: 100, 11: 121, 12: 144, 13: 169, 14: 196, 15: 225, 16: 256, 17: 289, 18: 324, 19: 361, 20: 400, 40: 1600, 41: 1681, 42: 1764}\n"
     ]
    }
   ],
   "source": [
    "additional_dict = {40: 1600, 41: 1681, 42: 1764}\n",
    "\n",
    "result.update(additional_dict)\n",
    "\n",
    "print(result)"
   ]
  },
  {
   "cell_type": "markdown",
   "metadata": {},
   "source": [
    "The result is\n",
    "\n",
    "    {1: 1, 2: 4, 3: 9, 4: 16, 5: 25, 6: 36, 7: 49, 8: 64, 9: 81, 10: 100, 11: 121, 12: 144, 13: 169, 14: 196, 15: 225, 16: 256, 17: 289, 18: 324, 19: 361, 20: 400, 40: 1600, 41: 1681, 42: 1764}\n"
   ]
  },
  {
   "cell_type": "markdown",
   "metadata": {},
   "source": [
    "## NYC marathon winners\n",
    "\n",
    "Here's a (nested) list of the female NYC marathon winners from wikipedia. https://en.wikipedia.org/wiki/List_of_winners_of_the_New_York_City_Marathon in the format\n",
    "\n",
    "            [['Year 1', 'Winner 1, 'Country 1', 'Time 1', 'Notes 1'],\n",
    "             ['Year 2', 'Winner 2, 'Country 2', 'Time 2', 'Notes 2'], \n",
    "             ...]]\n",
    "The follwing cell reads in the list from the file *female_winners.csv* and modifies the list to match the format above. Reading in the file will be covered later."
   ]
  },
  {
   "cell_type": "code",
   "execution_count": 3,
   "metadata": {
    "scrolled": false
   },
   "outputs": [
    {
     "data": {
      "text/plain": [
       "[['1971', 'Beth Bonner', 'United States', '2:55:22', 'World record'],\n",
       " ['1972', 'Nina Kuscsik', 'United States', '3:08:41', ''],\n",
       " ['1973', 'Nina Kuscsik', 'United States', '2:57:07', 'Second victory']]"
      ]
     },
     "execution_count": 3,
     "metadata": {},
     "output_type": "execute_result"
    }
   ],
   "source": [
    "with open(\"female_winners.csv\") as f:\n",
    "    winners = f.readlines()\n",
    "\n",
    "winners = [entry.replace(\"\\n\",\"\").split(\",\") for entry in winners]\n",
    "winners = winners[1:]\n",
    "winners[:3]"
   ]
  },
  {
   "cell_type": "markdown",
   "metadata": {},
   "source": [
    "### Winner count\n",
    "Use a dictionary to count how often each winner won the marathon.\n",
    "\n",
    "*Hint: Loop through the list. Start with an empty dictionary and add winners as a key-value pair as they appear, so you'll end up with a dictionary like {\"winner1\":count1, \"winner2\":count2, ...}.*"
   ]
  },
  {
   "cell_type": "code",
   "execution_count": 4,
   "metadata": {
    "scrolled": true
   },
   "outputs": [
    {
     "name": "stdout",
     "output_type": "stream",
     "text": [
      "{'Beth Bonner': 1, 'Nina Kuscsik': 2, 'Kathrine Switzer': 1, 'Kim Merritt': 1, 'Miki Gorman': 2, 'Grete Waitz': 9, 'Allison Roe': 1, 'Priscilla Welch': 1, 'Ingrid Kristiansen': 1, 'Wanda Panfil': 1, 'Liz McColgan': 1, 'Lisa Ondieki': 1, 'Uta Pippig': 1, 'Tegla Loroupe': 2, 'Anuța Cătună': 1, 'Franziska Rochat-Moser': 1, 'Franca Fiacconi': 1, 'Adriana Fernández': 1, 'Lyudmila Petrova': 1, 'Margaret Okayo': 2, 'Joyce Chepchumba': 1, 'Paula Radcliffe': 3, 'Jeļena Prokopčuka': 2, 'Derartu Tulu': 1, 'Edna Kiplagat': 1, 'Firehiwot Dado': 1, 'Priscah Jeptoo': 1, 'Mary Keitany': 4, 'Shalane Flanagan': 1, 'Joyciline Jepkosgei': 1}\n"
     ]
    }
   ],
   "source": [
    "winner_count = {}\n",
    "\n",
    "for w in winners:\n",
    "    name = w[1]\n",
    "    if name not in winner_count:\n",
    "        winner_count[name] = 0\n",
    "    winner_count[name] += 1\n",
    "\n",
    "print(winner_count)"
   ]
  },
  {
   "cell_type": "markdown",
   "metadata": {},
   "source": [
    "The result is\n",
    "\n",
    "    {'Beth Bonner': 1,\n",
    "     'Nina Kuscsik': 2,\n",
    "     'Kathrine Switzer': 1,\n",
    "     'Kim Merritt': 1,\n",
    "     'Miki Gorman': 2,\n",
    "     'Grete Waitz': 9,\n",
    "     'Allison Roe': 1,\n",
    "     'Priscilla Welch': 1,\n",
    "     'Ingrid Kristiansen': 1,\n",
    "     'Wanda Panfil': 1,\n",
    "     'Liz McColgan': 1,\n",
    "     'Lisa Ondieki': 1,\n",
    "     'Uta Pippig': 1,\n",
    "     'Tegla Loroupe': 2,\n",
    "     'Anuța Cătună': 1,\n",
    "     'Franziska Rochat-Moser': 1,\n",
    "     'Franca Fiacconi': 1,\n",
    "     'Adriana Fernández': 1,\n",
    "     'Lyudmila Petrova': 1,\n",
    "     'Margaret Okayo': 2,\n",
    "     'Joyce Chepchumba': 1,\n",
    "     'Paula Radcliffe': 3,\n",
    "     'Jeļena Prokopčuka': 2,\n",
    "     'Derartu Tulu': 1,\n",
    "     'Edna Kiplagat': 1,\n",
    "     'Firehiwot Dado': 1,\n",
    "     'Priscah Jeptoo': 1,\n",
    "     'Mary Keitany': 4,\n",
    "     'Shalane Flanagan': 1,\n",
    "     'Joyciline Jepkosgei': 1}"
   ]
  },
  {
   "cell_type": "markdown",
   "metadata": {},
   "source": [
    "### Structure one sublist\n",
    "\n",
    "Create a dictionary like\n",
    "\n",
    "    {\"winner\":value1, \"country\":value2, \"time\":value3, \"note\":value4}\n",
    "\n",
    "with for the 0th item of the winner list.\n",
    "\n",
    "*Hint: Start with an empty dictionary. Use the zip() function and the list [\"winner\",\"country\",\"time\",\"note\"]*"
   ]
  },
  {
   "cell_type": "code",
   "execution_count": 6,
   "metadata": {},
   "outputs": [
    {
     "name": "stdout",
     "output_type": "stream",
     "text": [
      "{'winner': 'Beth Bonner', 'country': 'United States', 'time': '2:55:22', 'note': 'World record'}\n"
     ]
    }
   ],
   "source": [
    "winner_dict_0 = {}\n",
    "\n",
    "keys = [\"winner\", \"country\", \"time\", \"note\"]\n",
    "values = winners[0][1:]\n",
    "\n",
    "result = {k:v  for k,v in zip(keys,values) }\n",
    "\n",
    "print(result)"
   ]
  },
  {
   "cell_type": "markdown",
   "metadata": {},
   "source": [
    "The result is \n",
    "\n",
    "    {'winner': 'Beth Bonner',\n",
    "     'country': 'United States',\n",
    "     'time': '2:55:22',\n",
    "     'note': 'World record'}"
   ]
  },
  {
   "cell_type": "markdown",
   "metadata": {},
   "source": [
    "### Structure the whole list, nested dictionary\n",
    "\n",
    "Now, create a nested dictionary like\n",
    "\n",
    "    {year1: {\"winner\":value1, \"country\":value2, \"time\":value3, \"note\":value4},\n",
    "     year2: {\"winner\":value1, \"country\":value2, \"time\":value3, \"note\":value4},\n",
    "     ...}\n",
    "     \n",
    "*Hint: Start with an empty dictionary. Use a nested for loop.\n",
    "\n",
    "*Hint 2: Some structure for the nested loop is already given below. Make sure to create a new empty dictionary for each inner dictionary and not just overwrite the keys. More explanations on why this is important will be given in the solutions."
   ]
  },
  {
   "cell_type": "code",
   "execution_count": null,
   "metadata": {},
   "outputs": [],
   "source": [
    "winner_dict = {}\n",
    "\n",
    "for item in winners:\n",
    "    item_dict = {}\n",
    "    # ..."
   ]
  },
  {
   "cell_type": "markdown",
   "metadata": {},
   "source": [
    "The first part of the resulting dictionary is\n",
    "\n",
    "    {'1971': {'winner': 'Beth Bonner',\n",
    "              'country': 'United States',\n",
    "              'time': '2:55:22',\n",
    "              'note': 'World record'},\n",
    "     '1972': {'winner': 'Nina Kuscsik',\n",
    "              'country': 'United States',\n",
    "              'time': '3:08:41',\n",
    "              'note': ''},\n",
    "     '1973': {'winner': 'Nina Kuscsik',\n",
    "              'country': 'United States',\n",
    "              'time': '2:57:07',\n",
    "              'note': 'Second victory'},\n",
    "     '1974': {'winner': 'Kathrine Switzer',\n",
    "              'country': 'United States',\n",
    "              'time': '3:07:29',\n",
    "              'note': ''},\n",
    "       ... }"
   ]
  }
 ],
 "metadata": {
  "kernelspec": {
   "display_name": "Python 3",
   "language": "python",
   "name": "python3"
  },
  "language_info": {
   "codemirror_mode": {
    "name": "ipython",
    "version": 3
   },
   "file_extension": ".py",
   "mimetype": "text/x-python",
   "name": "python",
   "nbconvert_exporter": "python",
   "pygments_lexer": "ipython3",
   "version": "3.11.4"
  }
 },
 "nbformat": 4,
 "nbformat_minor": 4
}
