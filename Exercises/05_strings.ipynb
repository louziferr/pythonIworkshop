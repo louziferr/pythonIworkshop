{
 "cells": [
  {
   "cell_type": "markdown",
   "metadata": {},
   "source": [
    "### Exercise: Strings\n",
    "\n",
    "- Creating, Modifiying and Working with strings"
   ]
  },
  {
   "cell_type": "markdown",
   "metadata": {},
   "source": [
    "### Task 1\n",
    "\n",
    "Given is the IBAN number below. Create a new variable called `account_number` and assign it the last ten digits of that IBAN number."
   ]
  },
  {
   "cell_type": "code",
   "execution_count": 7,
   "metadata": {},
   "outputs": [],
   "source": [
    "IBAN = \"DE98764374623748372374\"\n",
    "\n",
    "### your solution ###"
   ]
  },
  {
   "cell_type": "code",
   "execution_count": 6,
   "metadata": {},
   "outputs": [],
   "source": [
    "### TESTING ###\n",
    "\n",
    "assert(isinstance(account_number, str))\n",
    "assert(account_number == \"3748372374\")"
   ]
  },
  {
   "cell_type": "markdown",
   "metadata": {},
   "source": [
    "### Task 2\n",
    "\n",
    "Write a function called `encrypt()` that takes one argument:\n",
    "\n",
    "- `message`: a string that represents the message to encrypt.\n",
    "\n",
    "The function encrypts the message following these steps:\n",
    "\n",
    "- it replaces all appearances of \"a\" with a \"+\".\n",
    "- it takes the second character of the message and replaces it with a \"-\".\n",
    "- it reverses the string.\n",
    "\n",
    "The function returns the encrypted message as a string."
   ]
  },
  {
   "cell_type": "code",
   "execution_count": 8,
   "metadata": {},
   "outputs": [],
   "source": [
    "### your solution ###"
   ]
  },
  {
   "cell_type": "code",
   "execution_count": 11,
   "metadata": {},
   "outputs": [],
   "source": [
    "### TESTING ###\n",
    "\n",
    "assert(callable(encrypt))\n",
    "assert(encrypt(\"This is a good day!\") == \"!y+d doog + si si-T\")\n",
    "assert(encrypt(\"I like apples.\") == \".selpp+-ekil-I\")"
   ]
  },
  {
   "cell_type": "markdown",
   "metadata": {},
   "source": [
    "### Task 3\n",
    "\n",
    "Write a function called `not_bad()` that takes one argument:\n",
    "\n",
    "- `sentence`: a string that represents any sentence.\n",
    "\n",
    "The function does the following things:\n",
    "\n",
    "- it finds the index for the first appearance of the word `not`.\n",
    "- it finds the index for the first appearance of the word `bad`.\n",
    "- if the word `not` appears before the word `bad` it replaces the entire substring of `not ... bad` with `good`.\n",
    "\n",
    "So \"This dinner is not that bad!\" becomes \"This dinner is good!\".\n",
    "\n",
    "The function returns the resulting string."
   ]
  },
  {
   "cell_type": "code",
   "execution_count": null,
   "metadata": {},
   "outputs": [],
   "source": [
    "### your solution ###"
   ]
  },
  {
   "cell_type": "code",
   "execution_count": null,
   "metadata": {},
   "outputs": [],
   "source": [
    "### TESTING ###\n",
    "\n",
    "assert(callable(not_bad))\n",
    "assert(not_bad(\"This dinner is not that bad!\") == \"This dinner is good!\")\n",
    "assert(not_bad(\"The view is really bad!\") == \"The view is really bad!\")\n",
    "assert(not_bad(\"This ride is bad. I did not expect that.\") == \"This ride is bad. I did not expect that.\")"
   ]
  }
 ],
 "metadata": {
  "kernelspec": {
   "display_name": "pythonWorkshop",
   "language": "python",
   "name": "python3"
  },
  "language_info": {
   "codemirror_mode": {
    "name": "ipython",
    "version": 3
   },
   "file_extension": ".py",
   "mimetype": "text/x-python",
   "name": "python",
   "nbconvert_exporter": "python",
   "pygments_lexer": "ipython3",
   "version": "3.12.0"
  }
 },
 "nbformat": 4,
 "nbformat_minor": 2
}
