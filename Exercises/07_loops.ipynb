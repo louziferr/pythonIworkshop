{
 "cells": [
  {
   "cell_type": "markdown",
   "metadata": {},
   "source": [
    "### Exercise: Loops\n",
    "\n",
    "- Running For-Loops"
   ]
  },
  {
   "cell_type": "markdown",
   "metadata": {},
   "source": [
    "### Task 1\n",
    "\n",
    "Given is a list called `numbers`. Iterate over that list and print out all numbers that are below 10."
   ]
  },
  {
   "cell_type": "code",
   "execution_count": 1,
   "metadata": {},
   "outputs": [],
   "source": [
    "numbers = [1, 34, 12, 3, 43, 2, 56, 6]\n",
    "\n",
    "### your solution ###"
   ]
  },
  {
   "cell_type": "markdown",
   "metadata": {},
   "source": [
    "### Task 2\n",
    "\n",
    "With the list `numbers`, calculate the variance of the list following this formula:\n",
    "\n",
    "$Var = \\frac{1}{n} \\sum_{i=1}^{n} (x_i - \\mu)^2$  \n",
    "\n",
    "- $\\mu$ is the mean\n",
    "\n",
    "- $x_i$ are the single list items\n",
    "\n",
    "- $n$ is the length of the list\n",
    "\n",
    "Save the result in a variable called `variance`."
   ]
  },
  {
   "cell_type": "code",
   "execution_count": 2,
   "metadata": {},
   "outputs": [
    {
     "name": "stdout",
     "output_type": "stream",
     "text": [
      "406.734375\n"
     ]
    }
   ],
   "source": [
    "### your solution ###"
   ]
  },
  {
   "cell_type": "code",
   "execution_count": null,
   "metadata": {},
   "outputs": [],
   "source": [
    "### TESTING ###\n",
    "\n",
    "assert(variance == 406.734375)"
   ]
  },
  {
   "cell_type": "markdown",
   "metadata": {},
   "source": [
    "### Task 3\n",
    "\n",
    "Given is a list of lists with information about NYC marathon winners in the format:\n",
    "\n",
    "`[[YEAR,NAME,COUNTRY,TIME]]`\n",
    "\n",
    "Create a new list called `countries` and fill it with the names of the winning countries.\n",
    "\n",
    "Each country should only appear once!\n",
    "\n",
    "\n",
    "*Hint*: Use an if statement which tests membership in a list:\n",
    "                                   \n",
    "                                   element in list\n",
    " or\n",
    " \n",
    "                                   element not in list"
   ]
  },
  {
   "cell_type": "code",
   "execution_count": null,
   "metadata": {},
   "outputs": [],
   "source": [
    "winners = [[1971,   \"Beth Bonner\",     \"United States\", \"2:55:22\"],\n",
    "           [1978,   \"Grete Waitz\",     \"Norway\",        \"2:32:30\"],\n",
    "           [1975,   \"Kim Merritt\",     \"United States\", \"2:46:14\"],\n",
    "           [1976,   \"Miki Gorman\",     \"United States\", \"2:39:11\"],\n",
    "           [2015,   \"Mary Keitany\",    \"Kenya\",         \"2:24:25\"],\n",
    "           [1981,   \"Allison Roe\",     \"New Zealand\",   \"2:25:29\"],\n",
    "           [1983,   \"Grete Waitz\",     \"Norway\",        \"2:27:00\"],\n",
    "           [1991,   \"Liz McColgan\",    \"United Kingdom\",\"2:29:32\"],\n",
    "           [2014,   \"Mary Keitany\",    \"Kenya\",         \"2:25:07\"],\n",
    "           [1972,   \"Nina Kuscsik\",    \"United States\", \"3:08:41\"],\n",
    "           [1973,   \"Nina Kuscsik\",    \"United States\", \"2:57:07\"],\n",
    "           [1977,   \"Miki Gorman\",     \"United States\", \"2:43:10\"],\n",
    "           [2016,   \"Mary Keitany\",    \"Kenya\",         \"2:24:26\"]]\n",
    "\n",
    "### your solution ###"
   ]
  },
  {
   "cell_type": "code",
   "execution_count": 6,
   "metadata": {},
   "outputs": [
    {
     "ename": "NameError",
     "evalue": "name 'countries' is not defined",
     "output_type": "error",
     "traceback": [
      "\u001b[0;31m---------------------------------------------------------------------------\u001b[0m",
      "\u001b[0;31mNameError\u001b[0m                                 Traceback (most recent call last)",
      "\u001b[1;32m/Users/luzieahrens/MA_AKT/proScience/PythonWorkshop/pythonIworkshop/Exercises_new/07_loops.ipynb Cell 9\u001b[0m line \u001b[0;36m3\n\u001b[1;32m      <a href='vscode-notebook-cell:/Users/luzieahrens/MA_AKT/proScience/PythonWorkshop/pythonIworkshop/Exercises_new/07_loops.ipynb#X11sZmlsZQ%3D%3D?line=0'>1</a>\u001b[0m \u001b[39m### TESTING ###\u001b[39;00m\n\u001b[0;32m----> <a href='vscode-notebook-cell:/Users/luzieahrens/MA_AKT/proScience/PythonWorkshop/pythonIworkshop/Exercises_new/07_loops.ipynb#X11sZmlsZQ%3D%3D?line=2'>3</a>\u001b[0m \u001b[39massert\u001b[39;00m(\u001b[39misinstance\u001b[39m(countries, \u001b[39mlist\u001b[39m))\n\u001b[1;32m      <a href='vscode-notebook-cell:/Users/luzieahrens/MA_AKT/proScience/PythonWorkshop/pythonIworkshop/Exercises_new/07_loops.ipynb#X11sZmlsZQ%3D%3D?line=3'>4</a>\u001b[0m \u001b[39massert\u001b[39;00m(\u001b[39mlen\u001b[39m(countries) \u001b[39m==\u001b[39m \u001b[39m4\u001b[39m)\n",
      "\u001b[0;31mNameError\u001b[0m: name 'countries' is not defined"
     ]
    }
   ],
   "source": [
    "### TESTING ###\n",
    "\n",
    "assert(isinstance(countries, list))\n",
    "assert(len(countries) == 5)"
   ]
  },
  {
   "cell_type": "markdown",
   "metadata": {},
   "source": [
    "### Task 4\n",
    "\n",
    "Use list comprehension to create a list called `even` with even numbers between the range of 10 and 100."
   ]
  },
  {
   "cell_type": "code",
   "execution_count": 1,
   "metadata": {},
   "outputs": [],
   "source": [
    "### your solution ###"
   ]
  },
  {
   "cell_type": "code",
   "execution_count": 5,
   "metadata": {},
   "outputs": [],
   "source": [
    "assert(isinstance(even, list))\n",
    "assert(len(even) == 46)"
   ]
  }
 ],
 "metadata": {
  "kernelspec": {
   "display_name": "pythonWorkshop",
   "language": "python",
   "name": "python3"
  },
  "language_info": {
   "codemirror_mode": {
    "name": "ipython",
    "version": 3
   },
   "file_extension": ".py",
   "mimetype": "text/x-python",
   "name": "python",
   "nbconvert_exporter": "python",
   "pygments_lexer": "ipython3",
   "version": "3.12.0"
  }
 },
 "nbformat": 4,
 "nbformat_minor": 2
}
