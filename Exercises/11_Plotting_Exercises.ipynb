{
 "cells": [
  {
   "cell_type": "markdown",
   "metadata": {},
   "source": [
    "**Execute this cell!**"
   ]
  },
  {
   "cell_type": "code",
   "execution_count": null,
   "metadata": {},
   "outputs": [],
   "source": [
    "import matplotlib.pyplot as plt\n",
    "\n",
    "from plotting_data_help import get_ages_churn_rate"
   ]
  },
  {
   "cell_type": "markdown",
   "metadata": {},
   "source": [
    "**Load the german churn data**:"
   ]
  },
  {
   "cell_type": "code",
   "execution_count": null,
   "metadata": {
    "scrolled": true
   },
   "outputs": [],
   "source": [
    "with open(\"churn_data_ger_provided.csv\") as f:\n",
    "    header = f.readline()\n",
    "    data = f.readlines()\n",
    "\n",
    "def process(value, variable):\n",
    "    if value.isdigit():\n",
    "        return int(value)\n",
    "    elif variable in (\"Balance\",\"EstimatedSalary\"):\n",
    "        return float(value)\n",
    "    else:\n",
    "        return value\n",
    "    \n",
    "for i,customer in enumerate(data):\n",
    "    data[i] = {var.replace(\"\\n\",\"\"):process(value.replace(\"\\n\",\"\"),var) for var,value in zip(header.split(\",\"),customer.split(\",\"))}\n",
    "\n",
    "data[:3]"
   ]
  },
  {
   "cell_type": "markdown",
   "metadata": {},
   "source": [
    "**Some functions provided**:"
   ]
  },
  {
   "cell_type": "markdown",
   "metadata": {},
   "source": [
    "# Plot churn rate against age\n",
    "\n",
    "Plot the churn rate $\\frac{\\text{number of churners}}{\\text{total number of customers}}$ against the age in a line plot.\n",
    "\n",
    "**First**, get the churn rate for each age in the dataset. Here, you have two options:\n",
    "\n",
    "1) Use the function get_ages_churn_rate form the provided plotting_data_help.py to get a list with the ages and churning rates (both list are in the same order).\n",
    "\n",
    "2) Get these lists from the data on your own.\n",
    "\n",
    "\n",
    "*Remark*: Getting these lists would be much easier with a Python package called pandas. Pandas is subject of the second ProScience Python course."
   ]
  },
  {
   "cell_type": "code",
   "execution_count": null,
   "metadata": {},
   "outputs": [],
   "source": [
    "# option 1)\n",
    "\n",
    "ages, churn_rates = get_ages_churn_rate(data)"
   ]
  },
  {
   "cell_type": "code",
   "execution_count": null,
   "metadata": {},
   "outputs": [],
   "source": [
    "# option 2)\n",
    "\n",
    "# your code\n",
    "# you could follow these steps:\n",
    "\n",
    "# 1. create two dictionaries\n",
    "# one contains the number of churner for each age\n",
    "# the other the number of customers for each age\n",
    "churn_number_by_age = {}\n",
    "customer_number_by_age = {}\n",
    "\n",
    "for customer in data:\n",
    "    age = customer[\"Age\"]\n",
    "    exited = customer[\"Exited\"]\n",
    "    # ...\n",
    "\n",
    "# 2. make a list of tuples (age, churn_rate) to be able to sort by age later\n",
    "churn_rates_by_age = []\n",
    "# ...\n",
    "    \n",
    "# 3. sort the list by age (sort will automatically sort by the 0th tuple entry)\n",
    "# ...\n",
    "\n",
    "# 4. seperate ages and churn rates into two lists\n",
    "# ...\n"
   ]
  },
  {
   "cell_type": "markdown",
   "metadata": {},
   "source": [
    "**Second**, create the plot.\n",
    "\n",
    "The plot should have\n",
    "\n",
    "- labels on the axes\n",
    "- a grid\n",
    "- a title\n",
    "- markers\n",
    "- a red line"
   ]
  },
  {
   "cell_type": "code",
   "execution_count": null,
   "metadata": {},
   "outputs": [],
   "source": [
    "# your code"
   ]
  },
  {
   "cell_type": "markdown",
   "metadata": {},
   "source": [
    "# Bar charts for different variables\n",
    "\n",
    "Create a bar chart that shows the average Tenure, NumOfProducts, HasCrCard and IsActiveMember value for the group of churners and non churners, respectively.\n",
    "\n",
    "The following cell computes the two lists with the average [Tenure, NumOfProducts, HasCrCard, IsActiveMember] for the churners and the non churners that you need for the plot."
   ]
  },
  {
   "cell_type": "code",
   "execution_count": null,
   "metadata": {},
   "outputs": [],
   "source": [
    "def get_values_based_on_churner(variable, data):\n",
    "    churner = [customer[variable] for customer in data if customer[\"Exited\"]==1]\n",
    "    non_churner = [customer[variable] for customer in data if customer[\"Exited\"]==0]\n",
    "    return churner, non_churner\n",
    "\n",
    "def get_mean(value_list):\n",
    "    return sum(value_list) / len(value_list)\n",
    "\n",
    "barchart_churn_data = []\n",
    "barchart_non_churn_data = []\n",
    "variables = ['Tenure','NumOfProducts','HasCrCard','IsActiveMember']\n",
    "\n",
    "for var in variables:\n",
    "    churn_list, non_churn_list = get_values_based_on_churner(var, data)\n",
    "    barchart_churn_data.append(get_mean(churn_list))\n",
    "    barchart_non_churn_data.append(get_mean(non_churn_list))\n",
    "\n",
    "print(\"Average values for churners:\\n\", barchart_churn_data)\n",
    "\n",
    "print(\"Average values for non churners:\\n\", barchart_non_churn_data)"
   ]
  },
  {
   "cell_type": "markdown",
   "metadata": {},
   "source": [
    "**Create the bar plot**"
   ]
  },
  {
   "cell_type": "code",
   "execution_count": null,
   "metadata": {},
   "outputs": [],
   "source": [
    "# prepare the positions of the bars\n",
    "x = range(len(variables))\n",
    "width = 0.2\n",
    "\n",
    "x1 = #...\n",
    "x2 = #...\n",
    "\n",
    "# plot\n",
    "# ..."
   ]
  }
 ],
 "metadata": {
  "kernelspec": {
   "display_name": "Python 3",
   "language": "python",
   "name": "python3"
  },
  "language_info": {
   "codemirror_mode": {
    "name": "ipython",
    "version": 3
   },
   "file_extension": ".py",
   "mimetype": "text/x-python",
   "name": "python",
   "nbconvert_exporter": "python",
   "pygments_lexer": "ipython3",
   "version": "3.7.6"
  }
 },
 "nbformat": 4,
 "nbformat_minor": 4
}
