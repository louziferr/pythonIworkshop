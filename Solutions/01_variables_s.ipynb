{
 "cells": [
  {
   "cell_type": "markdown",
   "metadata": {},
   "source": [
    "### Exercise: Variables\n",
    "\n",
    "- Creating, Assigning and Deleting Variables\n",
    "\n",
    "### Task 1\n",
    "Create a new variable called `number_of_students` and assign it the value `4`."
   ]
  },
  {
   "cell_type": "code",
   "execution_count": 1,
   "metadata": {},
   "outputs": [],
   "source": [
    "### your solution ###\n",
    "\n",
    "number_of_students = 4"
   ]
  },
  {
   "cell_type": "markdown",
   "metadata": {},
   "source": [
    "### Task 2\n",
    "\n",
    "Create a new variable called `name_of_teacher` and assign it the value `\"Carla\"`."
   ]
  },
  {
   "cell_type": "code",
   "execution_count": 2,
   "metadata": {},
   "outputs": [],
   "source": [
    "### your solution ###\n",
    "\n",
    "name_of_teacher = \"Carla\""
   ]
  },
  {
   "cell_type": "markdown",
   "metadata": {},
   "source": [
    "### Task 3\n",
    "\n",
    "Create a new variable called `average_grade` and assign it the value `2.3`."
   ]
  },
  {
   "cell_type": "code",
   "execution_count": 3,
   "metadata": {},
   "outputs": [],
   "source": [
    "### your solution ###\n",
    "\n",
    "average_grade = 2.3"
   ]
  },
  {
   "cell_type": "markdown",
   "metadata": {},
   "source": [
    "### Task 4\n",
    "\n",
    "Print out the TYPES of each of the created variables:\n",
    "\n",
    "    - number_of_students\n",
    "    - name_of_teacher\n",
    "    - average_grade"
   ]
  },
  {
   "cell_type": "code",
   "execution_count": 7,
   "metadata": {},
   "outputs": [
    {
     "name": "stdout",
     "output_type": "stream",
     "text": [
      "<class 'int'>\n",
      "<class 'str'>\n",
      "<class 'float'>\n"
     ]
    }
   ],
   "source": [
    "### your solution ###\n",
    "\n",
    "print(type(number_of_students))\n",
    "print(type(name_of_teacher))\n",
    "print(type(average_grade))"
   ]
  },
  {
   "cell_type": "markdown",
   "metadata": {},
   "source": [
    "### Task 5\n",
    "\n",
    "Create a variable called `teacher_age` and assign it the value `27`. \n",
    "\n",
    "Print out the name of the teacher followed by the age."
   ]
  },
  {
   "cell_type": "code",
   "execution_count": 8,
   "metadata": {},
   "outputs": [
    {
     "name": "stdout",
     "output_type": "stream",
     "text": [
      "Carla 27\n"
     ]
    }
   ],
   "source": [
    "### your solution ###\n",
    "\n",
    "teacher_age = 27\n",
    "\n",
    "print(name_of_teacher + \" \" + str(teacher_age))"
   ]
  },
  {
   "cell_type": "markdown",
   "metadata": {},
   "source": [
    "### Task 6\n",
    "\n",
    "Delete the variable `average_grade`."
   ]
  },
  {
   "cell_type": "code",
   "execution_count": 9,
   "metadata": {},
   "outputs": [],
   "source": [
    "### your solution ###\n",
    "\n",
    "del average_grade"
   ]
  },
  {
   "cell_type": "markdown",
   "metadata": {},
   "source": [
    "### Task 7\n",
    "\n",
    "Given are grades of an exam for all of the 4 students. Calculate the average grade and save the result in a variable called `average_grade`."
   ]
  },
  {
   "cell_type": "code",
   "execution_count": 10,
   "metadata": {},
   "outputs": [],
   "source": [
    "grade_1 = 1.3\n",
    "grade_2 = 2.1\n",
    "grade_3 = 2.3\n",
    "grade_4 = 3.5"
   ]
  },
  {
   "cell_type": "code",
   "execution_count": 13,
   "metadata": {},
   "outputs": [
    {
     "name": "stdout",
     "output_type": "stream",
     "text": [
      "2.3\n"
     ]
    }
   ],
   "source": [
    "### your solution ###\n",
    "\n",
    "average_grade = (grade_1 + grade_2 + grade_3 + grade_4) / 4\n",
    "\n",
    "print(average_grade)"
   ]
  }
 ],
 "metadata": {
  "kernelspec": {
   "display_name": "pythonWorkshop",
   "language": "python",
   "name": "python3"
  },
  "language_info": {
   "codemirror_mode": {
    "name": "ipython",
    "version": 3
   },
   "file_extension": ".py",
   "mimetype": "text/x-python",
   "name": "python",
   "nbconvert_exporter": "python",
   "pygments_lexer": "ipython3",
   "version": "3.12.0"
  }
 },
 "nbformat": 4,
 "nbformat_minor": 2
}
