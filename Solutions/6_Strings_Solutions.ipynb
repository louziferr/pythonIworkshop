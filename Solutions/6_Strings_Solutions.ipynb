{
 "cells": [
  {
   "cell_type": "markdown",
   "metadata": {},
   "source": [
    "# IBAN\n",
    "\n",
    "We'll start with a very simple excercise.\n",
    "\n",
    "![](IBAN_de.png)\n",
    "Source: https://en.wikipedia.org/wiki/International_Bank_Account_Number\n",
    "\n",
    "From an IBAN number, slice out only the account number, which makes up the last ten places of the IBAN (picure above)."
   ]
  },
  {
   "cell_type": "code",
   "execution_count": 16,
   "metadata": {},
   "outputs": [],
   "source": [
    "IBAN = \"DE98764374623748372374\"\n",
    "\n",
    "account_number = IBAN[-10:]"
   ]
  },
  {
   "cell_type": "markdown",
   "metadata": {},
   "source": [
    "Test:"
   ]
  },
  {
   "cell_type": "code",
   "execution_count": 17,
   "metadata": {},
   "outputs": [
    {
     "data": {
      "text/plain": [
       "True"
      ]
     },
     "execution_count": 17,
     "metadata": {},
     "output_type": "execute_result"
    }
   ],
   "source": [
    "account_number == '3748372374'"
   ]
  },
  {
   "cell_type": "markdown",
   "metadata": {},
   "source": [
    "# Encrypt ... \n",
    "\n",
    "### ... a message\n",
    "\n",
    "Replace all \"a\" characters by the character \"+\". Then, replace all occurences of the second character in the message by a \"-\". Lastly, reverse the string."
   ]
  },
  {
   "cell_type": "code",
   "execution_count": 1,
   "metadata": {},
   "outputs": [
    {
     "data": {
      "text/plain": [
       "\".trihs d-r + r+-w ll'I .mp --rht t+ kr+p -ht ni ni+tnuof -ht t+ t--m ll'-W\""
      ]
     },
     "execution_count": 1,
     "metadata": {},
     "output_type": "execute_result"
    }
   ],
   "source": [
    "message = \"We'll meet at the fountain in the park at three pm. I'll wear a red shirt.\"\n",
    "\n",
    "encrypt = message.replace(\"a\", \"+\").replace(message[1], \"-\")[::-1]"
   ]
  },
  {
   "cell_type": "markdown",
   "metadata": {},
   "source": [
    "Test:"
   ]
  },
  {
   "cell_type": "code",
   "execution_count": 2,
   "metadata": {},
   "outputs": [
    {
     "data": {
      "text/plain": [
       "True"
      ]
     },
     "execution_count": 2,
     "metadata": {},
     "output_type": "execute_result"
    }
   ],
   "source": [
    "encrypt == \".trihs d-r + r+-w ll'I .mp --rht t+ kr+p -ht ni ni+tnuof -ht t+ t--m ll'-W\""
   ]
  },
  {
   "cell_type": "markdown",
   "metadata": {},
   "source": [
    "### ... a PIN number\n",
    "\n",
    "First, test whether the given PIN consists of only numbers.\n",
    "Then, starting at the first occurence of \"00\", replace all \"1\" by 9 and all \"0\" by \"3\". Leave the PIN before the first occurence of \"00\" unchanged."
   ]
  },
  {
   "cell_type": "code",
   "execution_count": 1,
   "metadata": {},
   "outputs": [],
   "source": [
    "def PIN_encrypt(pin):\n",
    "    is_digit = pin.isdigit()\n",
    "    if is_digit:\n",
    "        index_00 = pin.find(\"00\")\n",
    "        index_00 = index_00 + 2\n",
    "        pin_modified = pin[index_00:].replace(\"1\",\"9\")\n",
    "        pin_modified = pin_modified.replace(\"0\",\"3\")\n",
    "        return pin[:index_00] + pin_modified\n",
    "    else:\n",
    "        raise ValueError(\"PIN_encrypt only handles strings of digits\")"
   ]
  },
  {
   "cell_type": "markdown",
   "metadata": {},
   "source": [
    "Test: The function is called with interesting inputs. Compare them to the correct results."
   ]
  },
  {
   "cell_type": "code",
   "execution_count": 2,
   "metadata": {},
   "outputs": [
    {
     "name": "stdout",
     "output_type": "stream",
     "text": [
      "0039395 0039395\n",
      "0093833 0093833\n",
      "3009333 3009333\n",
      "3434554 3434554\n"
     ]
    }
   ],
   "source": [
    "test_pin_1 = \"0031095\"\n",
    "test_pin_2 = \"0013800\"\n",
    "test_pin_3 = \"3001300\"\n",
    "test_pin_4 = \"3434554\"\n",
    "\n",
    "print(PIN_encrypt(test_pin_1), '0039395')\n",
    "print(PIN_encrypt(test_pin_2), '0093833')\n",
    "print(PIN_encrypt(test_pin_3),'3009333')\n",
    "print(PIN_encrypt(test_pin_4), '3434554')"
   ]
  },
  {
   "cell_type": "markdown",
   "metadata": {},
   "source": [
    "Test with invalid input:"
   ]
  },
  {
   "cell_type": "code",
   "execution_count": 3,
   "metadata": {},
   "outputs": [
    {
     "ename": "ValueError",
     "evalue": "PIN_encrypt only handles strings of digits",
     "output_type": "error",
     "traceback": [
      "\u001b[0;31m---------------------------------------------------------------------------\u001b[0m",
      "\u001b[0;31mValueError\u001b[0m                                Traceback (most recent call last)",
      "\u001b[0;32m<ipython-input-3-026c27c069c2>\u001b[0m in \u001b[0;36m<module>\u001b[0;34m\u001b[0m\n\u001b[1;32m      1\u001b[0m \u001b[0mtest_pin_5\u001b[0m \u001b[0;34m=\u001b[0m \u001b[0;34m\"gfd34333\"\u001b[0m\u001b[0;34m\u001b[0m\u001b[0;34m\u001b[0m\u001b[0m\n\u001b[0;32m----> 2\u001b[0;31m \u001b[0mPIN_encrypt\u001b[0m\u001b[0;34m(\u001b[0m\u001b[0mtest_pin_5\u001b[0m\u001b[0;34m)\u001b[0m\u001b[0;34m\u001b[0m\u001b[0;34m\u001b[0m\u001b[0m\n\u001b[0m",
      "\u001b[0;32m<ipython-input-1-00dcb08b4517>\u001b[0m in \u001b[0;36mPIN_encrypt\u001b[0;34m(pin)\u001b[0m\n\u001b[1;32m      8\u001b[0m         \u001b[0;32mreturn\u001b[0m \u001b[0mpin\u001b[0m\u001b[0;34m[\u001b[0m\u001b[0;34m:\u001b[0m\u001b[0mindex_00\u001b[0m\u001b[0;34m]\u001b[0m \u001b[0;34m+\u001b[0m \u001b[0mpin_modified\u001b[0m\u001b[0;34m\u001b[0m\u001b[0;34m\u001b[0m\u001b[0m\n\u001b[1;32m      9\u001b[0m     \u001b[0;32melse\u001b[0m\u001b[0;34m:\u001b[0m\u001b[0;34m\u001b[0m\u001b[0;34m\u001b[0m\u001b[0m\n\u001b[0;32m---> 10\u001b[0;31m         \u001b[0;32mraise\u001b[0m \u001b[0mValueError\u001b[0m\u001b[0;34m(\u001b[0m\u001b[0;34m\"PIN_encrypt only handles strings of digits\"\u001b[0m\u001b[0;34m)\u001b[0m\u001b[0;34m\u001b[0m\u001b[0;34m\u001b[0m\u001b[0m\n\u001b[0m",
      "\u001b[0;31mValueError\u001b[0m: PIN_encrypt only handles strings of digits"
     ]
    }
   ],
   "source": [
    "test_pin_5 = \"gfd34333\"\n",
    "PIN_encrypt(test_pin_5)"
   ]
  },
  {
   "cell_type": "markdown",
   "metadata": {},
   "source": [
    "# Formatting\n",
    "\n",
    "Write a function, that helps you to protocol an experiment with test persons.\n",
    "The inputs are (1) the name of the test person, (2) a boolean stating whether the test person wears glasses or not, (3) the age of the person as an integer.\n",
    "\n",
    "The output should be\n",
    "\n",
    "\"Subject Alice; glasses: yes; age: 34\" for (Alice, True, 34)\n",
    "\n",
    "\"Subject Bob; glasses: no; age: 17\" for (Bob, False, 17)"
   ]
  },
  {
   "cell_type": "code",
   "execution_count": 6,
   "metadata": {},
   "outputs": [],
   "source": [
    "def subject_to_string(name, glasses, age):\n",
    "    if glasses:\n",
    "        glasses_string = \"yes\"\n",
    "    else:\n",
    "        glasses_string = \"no\"\n",
    "    \n",
    "    subject_string = \"Subject {}; glasses {}, age {}\".format(name, glasses_string, age)\n",
    "    \n",
    "    return subject_string"
   ]
  },
  {
   "cell_type": "markdown",
   "metadata": {},
   "source": [
    "Test:"
   ]
  },
  {
   "cell_type": "code",
   "execution_count": 8,
   "metadata": {},
   "outputs": [
    {
     "name": "stdout",
     "output_type": "stream",
     "text": [
      "Subject Alice; glasses yes, age 34 Subject Alice; glasses yes, age 34\n",
      "Subject Bob; glasses no, age 17 Subject Bob; glasses no, age 17\n"
     ]
    }
   ],
   "source": [
    "print(subject_to_string(\"Alice\", True, 34), \"Subject Alice; glasses yes, age 34\")\n",
    "print(subject_to_string(\"Bob\", False, 17), \"Subject Bob; glasses no, age 17\")"
   ]
  },
  {
   "cell_type": "markdown",
   "metadata": {},
   "source": [
    "# Not bad!\n",
    "\n",
    "Taken fŕom: https://developers.google.com/edu/python/exercises/basic\n",
    "\n",
    "Given a string, find the first appearance of the\n",
    "substring 'not' and 'bad'. If the 'bad' follows\n",
    "the 'not', replace the whole 'not'...'bad' substring\n",
    "with 'good'.\n",
    "Return the resulting string.\n",
    "\n",
    "So 'This dinner is not that bad!' yields:\n",
    "This dinner is good!\n",
    "\n",
    "**Hint**: You might find *regular expressions* when googeling for this problem. You don't need them here. Use string slicing instead! (You know the length of the word \"bad\" ;) )"
   ]
  },
  {
   "cell_type": "code",
   "execution_count": 9,
   "metadata": {},
   "outputs": [],
   "source": [
    "def not_bad(sentence):\n",
    "    not_index = sentence.find(\"not\")\n",
    "    bad_index = sentence.find(\"bad\")\n",
    "    if not_index<bad_index:\n",
    "        new_sentence = sentence[:not_index] + \"good\" + sentence[bad_index+3:]\n",
    "        return new_sentence \n",
    "    else:\n",
    "        return sentence"
   ]
  },
  {
   "cell_type": "markdown",
   "metadata": {},
   "source": [
    "Test:"
   ]
  },
  {
   "cell_type": "code",
   "execution_count": 10,
   "metadata": {},
   "outputs": [
    {
     "name": "stdout",
     "output_type": "stream",
     "text": [
      "This is a bad dinner. I did not excpect that.     Correct: This is a bad dinner. I did not excpect that.\n",
      "This dinner was great!     Correct: This dinner was great!\n",
      "This dinner is good!     Correct: This dinner is good!\n",
      "This tea is not hot     Correct: This tea is not hot\n"
     ]
    }
   ],
   "source": [
    "s1 = \"This is a bad dinner. I did not excpect that.\"\n",
    "s2 = \"This dinner was great!\"\n",
    "s3 = \"This dinner is not that bad!\"\n",
    "s4 = 'This tea is not hot'\n",
    "\n",
    "print(not_bad(s1), \"    Correct:\", 'This is a bad dinner. I did not excpect that.')\n",
    "print(not_bad(s2),  \"    Correct:\", 'This dinner was great!') \n",
    "print(not_bad(s3), \"    Correct:\", 'This dinner is good!')\n",
    "print(not_bad(s4), \"    Correct:\", 'This tea is not hot')"
   ]
  }
 ],
 "metadata": {
  "kernelspec": {
   "display_name": "Python 3",
   "language": "python",
   "name": "python3"
  },
  "language_info": {
   "codemirror_mode": {
    "name": "ipython",
    "version": 3
   },
   "file_extension": ".py",
   "mimetype": "text/x-python",
   "name": "python",
   "nbconvert_exporter": "python",
   "pygments_lexer": "ipython3",
   "version": "3.7.6"
  }
 },
 "nbformat": 4,
 "nbformat_minor": 4
}
