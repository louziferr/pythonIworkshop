{
 "cells": [
  {
   "cell_type": "markdown",
   "metadata": {},
   "source": [
    "### Exercise: Textfiles\n",
    "\n",
    "- Reading, Writing and Appending to Textfiles"
   ]
  },
  {
   "cell_type": "markdown",
   "metadata": {},
   "source": [
    "### Task 1\n",
    "\n",
    "You are now the head for the creation of a new city.\n",
    "\n",
    "Create a new, empty csv-file called `future_city.csv`. Close the file after creation."
   ]
  },
  {
   "cell_type": "code",
   "execution_count": 2,
   "metadata": {},
   "outputs": [],
   "source": [
    "### your solution ###\n",
    "\n",
    "new_file = open(\"future_city.csv\", \"x\")\n",
    "new_file.close()"
   ]
  },
  {
   "cell_type": "markdown",
   "metadata": {},
   "source": [
    "### Task 2\n",
    "\n",
    "Given is a list of strings called `data`. Each string has the following format:\n",
    "\n",
    "`name;location;owner;rent`\n",
    "\n",
    "Open the textfile `future_city.csv` again.\n",
    "\n",
    "Write each entry from the list `data` in one line to the file (use the newline-character `\"\\n\"`).\n",
    "\n",
    "Close the file at the end."
   ]
  },
  {
   "cell_type": "code",
   "execution_count": 3,
   "metadata": {},
   "outputs": [],
   "source": [
    "data = [\"bakery;beet square;thomas hanks;1240\",\n",
    "        \"supermarket;tinker place;allice rose;2132\",\n",
    "        \"family house;rankstreet;mathilda bernaud;4310\",\n",
    "        \"clothing store;beet square;thomas hanks;903\",\n",
    "        \"music school;burnstreet;phillip ruecker;1390\",\n",
    "        \"gym;burnstreet;simone giertz;3290\"]\n",
    "\n",
    "### your solution ###\n",
    "\n",
    "file = open(\"future_city.csv\", \"w\")\n",
    "for entry in data:\n",
    "    file.write(entry)\n",
    "    file.write(\"\\n\")\n",
    "file.close()"
   ]
  },
  {
   "cell_type": "markdown",
   "metadata": {},
   "source": [
    "### Task 3\n",
    "\n",
    "Open the file `future_city.csv` again and read in the lines.\n",
    "\n",
    "Use the function `strip()` to remove the newline-characters at the end.\n",
    "\n",
    "Split the lines at the semicolon to create a list called `future_city` in the following format:\n",
    "\n",
    "`[[name1, location1, owner1, rent1], [name2, location2, owner2, rent2], ...]`"
   ]
  },
  {
   "cell_type": "code",
   "execution_count": 4,
   "metadata": {},
   "outputs": [],
   "source": [
    "### your solution ###\n",
    "\n",
    "future_city = list()\n",
    "\n",
    "file = open(\"future_city.csv\", \"r\")\n",
    "\n",
    "for line in file:\n",
    "    future_city.append(line.strip(\"\\n\").split(\";\"))\n",
    "\n",
    "file.close()"
   ]
  },
  {
   "cell_type": "code",
   "execution_count": 5,
   "metadata": {},
   "outputs": [],
   "source": [
    "### TESTING ###\n",
    "\n",
    "assert(isinstance(future_city, list))\n",
    "assert(len(future_city) == 6)\n",
    "assert(len(future_city[0]) == 4)"
   ]
  },
  {
   "cell_type": "markdown",
   "metadata": {},
   "source": [
    "### Task 4\n",
    "\n",
    "Calculate how much rent the city makes each month from the rent of the owners.\n",
    "\n",
    "Save the result in a variable called `monthly_rent`."
   ]
  },
  {
   "cell_type": "code",
   "execution_count": 6,
   "metadata": {},
   "outputs": [],
   "source": [
    "### your solution ###\n",
    "\n",
    "monthly_rent = 0\n",
    "\n",
    "for entry in future_city:\n",
    "    monthly_rent += int(entry[3])"
   ]
  },
  {
   "cell_type": "code",
   "execution_count": 7,
   "metadata": {},
   "outputs": [],
   "source": [
    "### TESTING ###\n",
    "assert(isinstance(monthly_rent, int))\n",
    "assert(monthly_rent == 13265)"
   ]
  },
  {
   "cell_type": "markdown",
   "metadata": {},
   "source": [
    "### Task 5\n",
    "\n",
    "A new house just spawned in your city! Add the new information to the end of the file `future_city.csv`."
   ]
  },
  {
   "cell_type": "code",
   "execution_count": 9,
   "metadata": {},
   "outputs": [],
   "source": [
    "new_info = [\"kindergarden\", \"burglar street\", \"alisa fessl\", \"3310\"]\n",
    "\n",
    "### your solution ###\n",
    "\n",
    "file = open(\"future_city.csv\", \"a+\")\n",
    "file.write(\";\".join(new_info))\n",
    "file.close()"
   ]
  }
 ],
 "metadata": {
  "kernelspec": {
   "display_name": "pythonWorkshop",
   "language": "python",
   "name": "python3"
  },
  "language_info": {
   "codemirror_mode": {
    "name": "ipython",
    "version": 3
   },
   "file_extension": ".py",
   "mimetype": "text/x-python",
   "name": "python",
   "nbconvert_exporter": "python",
   "pygments_lexer": "ipython3",
   "version": "3.12.0"
  }
 },
 "nbformat": 4,
 "nbformat_minor": 2
}
