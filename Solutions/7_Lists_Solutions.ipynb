{
 "cells": [
  {
   "cell_type": "markdown",
   "metadata": {},
   "source": [
    "# Basic \n",
    "This excercise is on a list of numbers that we read in from a textfile. Reading in the textfile and creating a list from the numbers in it is done in the cell below (what happens there will be covered later). Execute the cell below before you start with the excercise."
   ]
  },
  {
   "cell_type": "code",
   "execution_count": 2,
   "metadata": {},
   "outputs": [],
   "source": [
    "# the following two lines read in all the lines from the file numbers.txt as a list\n",
    "with open(\"numbers.txt\") as f:\n",
    "    numbers = f.readlines()\n",
    "    \n",
    "# the following list comprehensions converts the elements in that list from strings to floats\n",
    "numbers = [float(n) for n in numbers]"
   ]
  },
  {
   "cell_type": "markdown",
   "metadata": {},
   "source": [
    "### (1) Find the minimum and maximum number\n",
    "store them as numbers_min and numbers_max"
   ]
  },
  {
   "cell_type": "code",
   "execution_count": 2,
   "metadata": {},
   "outputs": [],
   "source": [
    "numbers_min = min(numbers)\n",
    "numbers_max = max(numbers)"
   ]
  },
  {
   "cell_type": "markdown",
   "metadata": {},
   "source": [
    "### (2) Sorting\n",
    "Create a new list 'numbers_sorted' that contains the numbers in 'numbers' sorted from max to min, but keep the list 'numbers' in its original order"
   ]
  },
  {
   "cell_type": "code",
   "execution_count": 3,
   "metadata": {},
   "outputs": [],
   "source": [
    "numbers_sorted = sorted(numbers, reverse=True)"
   ]
  },
  {
   "cell_type": "markdown",
   "metadata": {},
   "source": [
    "### (3) Minimum and maximum\n",
    "Check if the 0th element of the list 'numbers_sorted' equals 'numbers_max' and if the last element equals numbers_min"
   ]
  },
  {
   "cell_type": "code",
   "execution_count": 4,
   "metadata": {},
   "outputs": [
    {
     "data": {
      "text/plain": [
       "True"
      ]
     },
     "execution_count": 4,
     "metadata": {},
     "output_type": "execute_result"
    }
   ],
   "source": [
    "numbers_sorted[0] == numbers_max"
   ]
  },
  {
   "cell_type": "code",
   "execution_count": 5,
   "metadata": {},
   "outputs": [
    {
     "data": {
      "text/plain": [
       "True"
      ]
     },
     "execution_count": 5,
     "metadata": {},
     "output_type": "execute_result"
    }
   ],
   "source": [
    "numbers_sorted[-1] == numbers_min"
   ]
  },
  {
   "cell_type": "markdown",
   "metadata": {},
   "source": [
    "### (4) Mean\n",
    "Calculate the mean of the numbers\n",
    "\n",
    "*Hint*: You need two built-in functions."
   ]
  },
  {
   "cell_type": "code",
   "execution_count": 3,
   "metadata": {},
   "outputs": [
    {
     "data": {
      "text/plain": [
       "20.33882153"
      ]
     },
     "execution_count": 3,
     "metadata": {},
     "output_type": "execute_result"
    }
   ],
   "source": [
    "from statistics import mean\n",
    "\n",
    "numbers_mean = mean(numbers)\n",
    "\n",
    "numbers_mean"
   ]
  },
  {
   "cell_type": "markdown",
   "metadata": {},
   "source": [
    "### (5) Padding\n",
    "Create a new list 'numbers_padded' with additional 10 zeros at the beginning and at the end of the list, like:\n",
    "\n",
    "                    [0,0,0,0,0,0,0,0,0,0, number_0, number_1, ..., 0,0,0,0,0,0,0,0,0,0]\n",
    "                    \n",
    "*Hint*: Remember the operators for concatenation and repetition."
   ]
  },
  {
   "cell_type": "code",
   "execution_count": 7,
   "metadata": {},
   "outputs": [],
   "source": [
    "# concatenate the zeros list with the original list and the zeros list again\n",
    "numbers_padded = [0]*10 + numbers + [0]*10"
   ]
  },
  {
   "cell_type": "markdown",
   "metadata": {},
   "source": [
    "After padding, do a self-check and test if the slice of the first ten and the slice of the last ten elements in 'numbers_padded' are all zeros (do two comparisons with the == operator)."
   ]
  },
  {
   "cell_type": "code",
   "execution_count": 8,
   "metadata": {},
   "outputs": [
    {
     "data": {
      "text/plain": [
       "True"
      ]
     },
     "execution_count": 8,
     "metadata": {},
     "output_type": "execute_result"
    }
   ],
   "source": [
    "numbers_padded[:10] == [0]*10"
   ]
  },
  {
   "cell_type": "code",
   "execution_count": 9,
   "metadata": {},
   "outputs": [
    {
     "data": {
      "text/plain": [
       "True"
      ]
     },
     "execution_count": 9,
     "metadata": {},
     "output_type": "execute_result"
    }
   ],
   "source": [
    "numbers_padded[-10:] == [0]*10"
   ]
  },
  {
   "cell_type": "markdown",
   "metadata": {},
   "source": [
    "# Sort a list of tuples\n",
    "\n",
    "Write a function that sorts a list of tuples in increasing order by the last element in each tuple.\n",
    "\n",
    "*Hint*: Use the key argument of the sorted() with a function you define."
   ]
  },
  {
   "cell_type": "code",
   "execution_count": 10,
   "metadata": {},
   "outputs": [
    {
     "data": {
      "text/plain": [
       "[(3, 1), (7, 2), (2, 3), (3, 7)]"
      ]
     },
     "execution_count": 10,
     "metadata": {},
     "output_type": "execute_result"
    }
   ],
   "source": [
    "def get_last(t):\n",
    "    return t[-1]\n",
    "\n",
    "def tuple_sort(x):\n",
    "    return sorted(x, key=get_last)\n",
    "\n",
    "tuple_list = [(2,3),(3,7),(3,1),(7,2)]\n",
    "\n",
    "tuple_sort(tuple_list)"
   ]
  }
 ],
 "metadata": {
  "kernelspec": {
   "display_name": "Python 3",
   "language": "python",
   "name": "python3"
  },
  "language_info": {
   "codemirror_mode": {
    "name": "ipython",
    "version": 3
   },
   "file_extension": ".py",
   "mimetype": "text/x-python",
   "name": "python",
   "nbconvert_exporter": "python",
   "pygments_lexer": "ipython3",
   "version": "3.11.4"
  }
 },
 "nbformat": 4,
 "nbformat_minor": 4
}
