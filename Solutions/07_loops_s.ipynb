{
 "cells": [
  {
   "cell_type": "markdown",
   "metadata": {},
   "source": [
    "### Exercise: Loops\n",
    "\n",
    "- Running For-Loops"
   ]
  },
  {
   "cell_type": "markdown",
   "metadata": {},
   "source": [
    "### Task 1\n",
    "\n",
    "Given is a list of numbers. Iterate over that list and print out all numbers that are below 10."
   ]
  },
  {
   "cell_type": "code",
   "execution_count": 1,
   "metadata": {},
   "outputs": [
    {
     "name": "stdout",
     "output_type": "stream",
     "text": [
      "1\n",
      "3\n",
      "2\n",
      "6\n"
     ]
    }
   ],
   "source": [
    "numbers = [1, 34, 12, 3, 43, 2, 56, 6]\n",
    "\n",
    "### your solution ###\n",
    "\n",
    "for number in numbers:\n",
    "    if number < 10:\n",
    "        print(number)"
   ]
  },
  {
   "cell_type": "markdown",
   "metadata": {},
   "source": [
    "### Task 2\n",
    "\n",
    "With the same list, calculate the variance following this formula:\n",
    "\n",
    "$Var = \\frac{1}{n} \\sum_{i=1}^{n} (x_i - \\mu)^2$  \n",
    "\n",
    "$\\mu$ is the mean\n",
    "\n",
    "Save the result in a variable called `variance`."
   ]
  },
  {
   "cell_type": "code",
   "execution_count": 4,
   "metadata": {},
   "outputs": [],
   "source": [
    "### your solution ###\n",
    "\n",
    "mean = sum(numbers) / len(numbers)\n",
    "variance = 0\n",
    "\n",
    "for x in numbers:\n",
    "    variance += (x-mean)**2\n",
    "\n",
    "variance *= 1/len(numbers)"
   ]
  },
  {
   "cell_type": "code",
   "execution_count": 5,
   "metadata": {},
   "outputs": [],
   "source": [
    "### TESTING ###\n",
    "\n",
    "assert(variance == 406.734375)"
   ]
  },
  {
   "cell_type": "markdown",
   "metadata": {},
   "source": [
    "### Task 3\n",
    "\n",
    "Given is a list of lists with information about NYC marathon winners in the format:\n",
    "\n",
    "`[[YEAR,NAME,COUNTRY,TIME]]`\n",
    "\n",
    "Create a new list called `countries` and fill it with the names of the winning countries.\n",
    "\n",
    "Each country should only appear once!\n",
    "\n",
    "\n",
    "*Hint*: Use an if statement which tests membership in a list:\n",
    "                                   \n",
    "                                   element in list\n",
    " or\n",
    " \n",
    "                                   element not in list"
   ]
  },
  {
   "cell_type": "code",
   "execution_count": 9,
   "metadata": {},
   "outputs": [],
   "source": [
    "winners = [[1971,   \"Beth Bonner\",     \"United States\", \"2:55:22\"],\n",
    "           [1978,   \"Grete Waitz\",     \"Norway\",        \"2:32:30\"],\n",
    "           [1975,   \"Kim Merritt\",     \"United States\", \"2:46:14\"],\n",
    "           [1976,   \"Miki Gorman\",     \"United States\", \"2:39:11\"],\n",
    "           [2015,   \"Mary Keitany\",    \"Kenya\",         \"2:24:25\"],\n",
    "           [1981,   \"Allison Roe\",     \"New Zealand\",   \"2:25:29\"],\n",
    "           [1983,   \"Grete Waitz\",     \"Norway\",        \"2:27:00\"],\n",
    "           [1991,   \"Liz McColgan\",    \"United Kingdom\",\"2:29:32\"],\n",
    "           [2014,   \"Mary Keitany\",    \"Kenya\",         \"2:25:07\"],\n",
    "           [1972,   \"Nina Kuscsik\",    \"United States\", \"3:08:41\"],\n",
    "           [1973,   \"Nina Kuscsik\",    \"United States\", \"2:57:07\"],\n",
    "           [1977,   \"Miki Gorman\",     \"United States\", \"2:43:10\"],\n",
    "           [2016,   \"Mary Keitany\",    \"Kenya\",         \"2:24:26\"]]\n",
    "\n",
    "### your solution ###\n",
    "countries = list()\n",
    "\n",
    "for winner in winners:\n",
    "    country = winner[2]\n",
    "    if country not in countries:\n",
    "        countries.append(country)"
   ]
  },
  {
   "cell_type": "code",
   "execution_count": 10,
   "metadata": {},
   "outputs": [],
   "source": [
    "### TESTING ###\n",
    "\n",
    "assert(isinstance(countries, list))\n",
    "assert(len(countries) == 5)"
   ]
  },
  {
   "cell_type": "markdown",
   "metadata": {},
   "source": [
    "### Task 4\n",
    "\n",
    "Use list comprehension to create a list called `even` with even numbers between the range of 10 and 100."
   ]
  },
  {
   "cell_type": "code",
   "execution_count": 11,
   "metadata": {},
   "outputs": [],
   "source": [
    "### your solution ###\n",
    "\n",
    "even = [x for x in range(10, 101) if x%2==0]"
   ]
  },
  {
   "cell_type": "code",
   "execution_count": 12,
   "metadata": {},
   "outputs": [],
   "source": [
    "assert(isinstance(even, list))\n",
    "assert(len(even) == 46)"
   ]
  }
 ],
 "metadata": {
  "kernelspec": {
   "display_name": "pythonWorkshop",
   "language": "python",
   "name": "python3"
  },
  "language_info": {
   "codemirror_mode": {
    "name": "ipython",
    "version": 3
   },
   "file_extension": ".py",
   "mimetype": "text/x-python",
   "name": "python",
   "nbconvert_exporter": "python",
   "pygments_lexer": "ipython3",
   "version": "3.12.0"
  }
 },
 "nbformat": 4,
 "nbformat_minor": 2
}
