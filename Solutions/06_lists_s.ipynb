{
 "cells": [
  {
   "cell_type": "markdown",
   "metadata": {},
   "source": [
    "### Exercise: Lists\n",
    "\n",
    "- Creating and Modifying Lists"
   ]
  },
  {
   "cell_type": "markdown",
   "metadata": {},
   "source": [
    "### Task 1\n",
    "\n",
    "Create two lists:\n",
    "\n",
    "- `animals`: it contains strings that represent animals\n",
    "- `ages`: it contains integers that represent the ages of the animals\n",
    "\n",
    "Make sure the two lists are of the same length!"
   ]
  },
  {
   "cell_type": "code",
   "execution_count": 1,
   "metadata": {},
   "outputs": [],
   "source": [
    "### your solution ###\n",
    "\n",
    "animals = [\"dog\", \"cat\", \"zebra\", \"elephant\", \"flamingo\"]\n",
    "ages = [5, 2, 10, 34, 6]"
   ]
  },
  {
   "cell_type": "code",
   "execution_count": 2,
   "metadata": {},
   "outputs": [],
   "source": [
    "### TESTING ###\n",
    "\n",
    "assert(len(animals) == len(ages))"
   ]
  },
  {
   "cell_type": "markdown",
   "metadata": {},
   "source": [
    "### Task 2\n",
    "\n",
    "Follow these steps to find the youngest animal:\n",
    "\n",
    "- get the minimum value in the list `ages`.\n",
    "- get the index of that minimum value.\n",
    "- print out the name of the animal that appears at the same index in the list `animals`."
   ]
  },
  {
   "cell_type": "code",
   "execution_count": 3,
   "metadata": {},
   "outputs": [
    {
     "name": "stdout",
     "output_type": "stream",
     "text": [
      "cat\n"
     ]
    }
   ],
   "source": [
    "### your solution ###\n",
    "\n",
    "youngest_age = min(ages)\n",
    "youngest_index = ages.index(youngest_age)\n",
    "print(animals[youngest_index])"
   ]
  },
  {
   "cell_type": "markdown",
   "metadata": {},
   "source": [
    "### Task 3\n",
    "\n",
    "Add a new animal to the list `animals`. \n",
    "\n",
    "Add the age of that animal to the list `ages`."
   ]
  },
  {
   "cell_type": "code",
   "execution_count": 4,
   "metadata": {},
   "outputs": [
    {
     "name": "stdout",
     "output_type": "stream",
     "text": [
      "['dog', 'cat', 'zebra', 'elephant', 'flamingo', 'lion']\n",
      "[5, 2, 10, 34, 6, 11]\n"
     ]
    }
   ],
   "source": [
    "### your solution ###\n",
    "\n",
    "animals.append(\"lion\")\n",
    "ages.append(11)\n",
    "\n",
    "print(animals)\n",
    "print(ages)"
   ]
  },
  {
   "cell_type": "markdown",
   "metadata": {},
   "source": [
    "### Task 4\n",
    "\n",
    "Calculate the average age of the animals."
   ]
  },
  {
   "cell_type": "code",
   "execution_count": 5,
   "metadata": {},
   "outputs": [
    {
     "name": "stdout",
     "output_type": "stream",
     "text": [
      "11.333333333333334\n"
     ]
    }
   ],
   "source": [
    "### your solution ###\n",
    "\n",
    "average_age = sum(ages) / len(ages)\n",
    "\n",
    "print(average_age)"
   ]
  },
  {
   "cell_type": "markdown",
   "metadata": {},
   "source": [
    "### Task 5\n",
    "\n",
    "Given is a list called `numbers`. Add padding to the list by adding `0` ten times at the start and at the end of the list."
   ]
  },
  {
   "cell_type": "code",
   "execution_count": 6,
   "metadata": {},
   "outputs": [
    {
     "name": "stdout",
     "output_type": "stream",
     "text": [
      "[0, 0, 0, 0, 0, 0, 0, 0, 0, 0, 1, 2, 3, 4, 5, 6, 7, 8, 9, 0, 0, 0, 0, 0, 0, 0, 0, 0, 0]\n"
     ]
    }
   ],
   "source": [
    "numbers = [1, 2, 3, 4, 5, 6, 7, 8, 9]\n",
    "\n",
    "### your solution ###\n",
    "\n",
    "numbers = [0]*10 + numbers + [0]*10\n",
    "\n",
    "print(numbers)"
   ]
  }
 ],
 "metadata": {
  "kernelspec": {
   "display_name": "pythonWorkshop",
   "language": "python",
   "name": "python3"
  },
  "language_info": {
   "codemirror_mode": {
    "name": "ipython",
    "version": 3
   },
   "file_extension": ".py",
   "mimetype": "text/x-python",
   "name": "python",
   "nbconvert_exporter": "python",
   "pygments_lexer": "ipython3",
   "version": "3.12.0"
  }
 },
 "nbformat": 4,
 "nbformat_minor": 2
}
