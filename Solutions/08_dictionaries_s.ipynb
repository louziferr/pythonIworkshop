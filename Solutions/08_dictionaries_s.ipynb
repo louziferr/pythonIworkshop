{
 "cells": [
  {
   "cell_type": "markdown",
   "metadata": {},
   "source": [
    "### Exercise: Dictionaries\n",
    "\n",
    "- Creating, Using and Modifying Dictionaries"
   ]
  },
  {
   "cell_type": "markdown",
   "metadata": {},
   "source": [
    "### Task 1\n",
    "\n",
    "Create a dictionary called `product_prices` for a company that sells sports gear. The dictionary should have:\n",
    "\n",
    "- `keys`: a string that represents the name of the product\n",
    "- `values`: a floating number that represents the price of the product\n",
    "\n",
    "The products that the dictionary should contain are listed below:\n",
    "\n",
    "- surfboard - 299.99 EUR\n",
    "- leggins - 15.50 EUR\n",
    "- volleyball - 29.90 EUR\n",
    "- t-shirt - 19.99 EUR\n",
    "- frisbee - 4.99 EUR"
   ]
  },
  {
   "cell_type": "code",
   "execution_count": 13,
   "metadata": {},
   "outputs": [],
   "source": [
    "### your solution ###\n",
    "\n",
    "product_prices = {\"surfboard\": 299.99,\n",
    "                  \"leggins\": 15.50,\n",
    "                  \"volleyball\": 29.90,\n",
    "                  \"t-shirt\": 19.99,\n",
    "                  \"frisbee\": 4.99}"
   ]
  },
  {
   "cell_type": "code",
   "execution_count": 14,
   "metadata": {},
   "outputs": [],
   "source": [
    "### TESTING ###\n",
    "\n",
    "assert(isinstance(product_prices, dict))\n",
    "assert(len(product_prices) == 5)\n",
    "assert(product_prices[\"surfboard\"] == 299.99)"
   ]
  },
  {
   "cell_type": "markdown",
   "metadata": {},
   "source": [
    "### Task 2\n",
    "\n",
    "A woman buys a leggins, a volleyball and a frisbee. Calculate the price she pays and save it in the variable `price`."
   ]
  },
  {
   "cell_type": "code",
   "execution_count": 11,
   "metadata": {},
   "outputs": [],
   "source": [
    "### your solution ###\n",
    "\n",
    "price = product_prices[\"leggins\"] + product_prices[\"volleyball\"] + product_prices[\"frisbee\"]"
   ]
  },
  {
   "cell_type": "code",
   "execution_count": 3,
   "metadata": {},
   "outputs": [],
   "source": [
    "### TESTING ###\n",
    "\n",
    "assert(isinstance(price, float))\n",
    "assert(price == 50.39)"
   ]
  },
  {
   "cell_type": "markdown",
   "metadata": {},
   "source": [
    "### Task 3\n",
    "\n",
    "The company runs out of surboards. Delete the entry for surfboards."
   ]
  },
  {
   "cell_type": "code",
   "execution_count": 15,
   "metadata": {},
   "outputs": [],
   "source": [
    "### your solution ###\n",
    "\n",
    "del product_prices[\"surfboard\"]"
   ]
  },
  {
   "cell_type": "code",
   "execution_count": 16,
   "metadata": {},
   "outputs": [],
   "source": [
    "### TESTING ###\n",
    "\n",
    "assert(len(product_prices) == 4)"
   ]
  },
  {
   "cell_type": "markdown",
   "metadata": {},
   "source": [
    "### Task 4\n",
    "\n",
    "The company adds a new product to their stock. Add the product to the dictionary:\n",
    "\n",
    "- football - 45.90 EUR"
   ]
  },
  {
   "cell_type": "code",
   "execution_count": 5,
   "metadata": {},
   "outputs": [],
   "source": [
    "### your solution ###\n",
    "\n",
    "product_prices[\"football\"] = 45.90"
   ]
  },
  {
   "cell_type": "markdown",
   "metadata": {},
   "source": [
    "### Task 5\n",
    "\n",
    "Given is a list of lists with female winners of the NYC marathon in the format:\n",
    "\n",
    "`[[YEAR,NAME,COUNTRY,TIME]]`\n",
    "\n",
    "Create a new dictionary called `winner_count` that has the following data:\n",
    "\n",
    "- `keys`: a string that represents the name of the winner\n",
    "- `values`: an integer that represents the total number of times that person won\n",
    "\n",
    "*Hint: Loop through the list. Start with an empty dictionary and add winners as a key-value pair as they appear, so you'll end up with a dictionary like {\"winner1\":count1, \"winner2\":count2, ...}.*"
   ]
  },
  {
   "cell_type": "code",
   "execution_count": 7,
   "metadata": {},
   "outputs": [
    {
     "name": "stdout",
     "output_type": "stream",
     "text": [
      "{'Beth Bonner': 1, 'Grete Waitz': 2, 'Kim Merritt': 1, 'Miki Gorman': 2, 'Mary Keitany': 3, 'Allison Roe': 1, 'Liz McColgan': 1, 'Nina Kuscsik': 2}\n"
     ]
    }
   ],
   "source": [
    "winners = [[1971,   \"Beth Bonner\",     \"United States\", \"2:55:22\"],\n",
    "           [1978,   \"Grete Waitz\",     \"Norway\",        \"2:32:30\"],\n",
    "           [1975,   \"Kim Merritt\",     \"United States\", \"2:46:14\"],\n",
    "           [1976,   \"Miki Gorman\",     \"United States\", \"2:39:11\"],\n",
    "           [2015,   \"Mary Keitany\",    \"Kenya\",         \"2:24:25\"],\n",
    "           [1981,   \"Allison Roe\",     \"New Zealand\",   \"2:25:29\"],\n",
    "           [1983,   \"Grete Waitz\",     \"Norway\",        \"2:27:00\"],\n",
    "           [1991,   \"Liz McColgan\",    \"United Kingdom\",\"2:29:32\"],\n",
    "           [2014,   \"Mary Keitany\",    \"Kenya\",         \"2:25:07\"],\n",
    "           [1972,   \"Nina Kuscsik\",    \"United States\", \"3:08:41\"],\n",
    "           [1973,   \"Nina Kuscsik\",    \"United States\", \"2:57:07\"],\n",
    "           [1977,   \"Miki Gorman\",     \"United States\", \"2:43:10\"],\n",
    "           [2016,   \"Mary Keitany\",    \"Kenya\",         \"2:24:26\"]]\n",
    "\n",
    "### your solution ###\n",
    "\n",
    "winner_count = dict()\n",
    "\n",
    "for winner in winners:\n",
    "    name = winner[1]\n",
    "    if name not in winner_count:\n",
    "        winner_count[name] = 0\n",
    "    winner_count[name] += 1\n",
    "\n",
    "print(winner_count)"
   ]
  },
  {
   "cell_type": "code",
   "execution_count": 8,
   "metadata": {},
   "outputs": [],
   "source": [
    "### TESTING ###\n",
    "\n",
    "assert(isinstance(winner_count, dict))\n",
    "assert(len(winner_count) == 8)\n",
    "assert(winner_count[\"Miki Gorman\"] == 2)"
   ]
  },
  {
   "cell_type": "markdown",
   "metadata": {},
   "source": [
    "### Task 6\n",
    "\n",
    "Use dictionary comprehension to create a dictionary called `square` with the following data:\n",
    "\n",
    "- `keys`: numbers between 1 and 20\n",
    "- `values`: the squares of the key values"
   ]
  },
  {
   "cell_type": "code",
   "execution_count": 18,
   "metadata": {},
   "outputs": [
    {
     "name": "stdout",
     "output_type": "stream",
     "text": [
      "{1: 1, 2: 4, 3: 9, 4: 16, 5: 25, 6: 36, 7: 49, 8: 64, 9: 81, 10: 100, 11: 121, 12: 144, 13: 169, 14: 196, 15: 225, 16: 256, 17: 289, 18: 324, 19: 361, 20: 400}\n"
     ]
    }
   ],
   "source": [
    "### your solution ###\n",
    "\n",
    "square = {n: n**2 for n in range(1, 21)}"
   ]
  },
  {
   "cell_type": "code",
   "execution_count": 19,
   "metadata": {},
   "outputs": [],
   "source": [
    "### TESTING ###\n",
    "\n",
    "assert(len(square) == 20)\n",
    "assert(square[4] == 16)"
   ]
  }
 ],
 "metadata": {
  "kernelspec": {
   "display_name": "pythonWorkshop",
   "language": "python",
   "name": "python3"
  },
  "language_info": {
   "codemirror_mode": {
    "name": "ipython",
    "version": 3
   },
   "file_extension": ".py",
   "mimetype": "text/x-python",
   "name": "python",
   "nbconvert_exporter": "python",
   "pygments_lexer": "ipython3",
   "version": "3.12.0"
  }
 },
 "nbformat": 4,
 "nbformat_minor": 2
}
