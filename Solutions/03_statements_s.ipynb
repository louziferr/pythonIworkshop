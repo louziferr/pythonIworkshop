{
 "cells": [
  {
   "cell_type": "markdown",
   "metadata": {},
   "source": [
    "### Exercise: Statements\n",
    "\n",
    "- Using statements for checking conditions"
   ]
  },
  {
   "cell_type": "markdown",
   "metadata": {},
   "source": [
    "### Task 1\n",
    "\n",
    "Given is the height of a person. The person wants to go on a rollercoaster, but she doesn't know, if she is tall enough.\n",
    "\n",
    "Check if she is taller than 1.50. If that is the case, print 'Enjoy!'. "
   ]
  },
  {
   "cell_type": "code",
   "execution_count": 1,
   "metadata": {},
   "outputs": [
    {
     "name": "stdout",
     "output_type": "stream",
     "text": [
      "Enjoy!\n"
     ]
    }
   ],
   "source": [
    "height = 1.63\n",
    "\n",
    "### your solution ###\n",
    "\n",
    "if height > 1.50:\n",
    "    print(\"Enjoy!\")"
   ]
  },
  {
   "cell_type": "markdown",
   "metadata": {},
   "source": [
    "### Task 2\n",
    "\n",
    "You wonder, if you should go get ice cream or a soup. You decide:\n",
    "\n",
    "If the temperature is above 15 degree, you will get ice cream. \n",
    "\n",
    "If it is below, you will get soup.\n",
    "\n",
    "Given is the temperature outside. Check the above condition with an if statement and print out the resulting action plan!"
   ]
  },
  {
   "cell_type": "code",
   "execution_count": 2,
   "metadata": {},
   "outputs": [
    {
     "name": "stdout",
     "output_type": "stream",
     "text": [
      "Soup!\n"
     ]
    }
   ],
   "source": [
    "temperature = 13\n",
    "\n",
    "### your solution ###\n",
    "\n",
    "if temperature > 15:\n",
    "    print(\"Icecream!\")\n",
    "else:\n",
    "    print(\"Soup!\")"
   ]
  },
  {
   "cell_type": "markdown",
   "metadata": {},
   "source": [
    "### Task 3\n",
    "\n",
    "Given is a german city name.\n",
    "\n",
    "If it is Berlin, print `\"capital city\"`.\n",
    "\n",
    "It it is Leipzig, print `\"cool city\"`.\n",
    "\n",
    "Otherwise, print `\"normal city\"`."
   ]
  },
  {
   "cell_type": "code",
   "execution_count": 3,
   "metadata": {},
   "outputs": [
    {
     "name": "stdout",
     "output_type": "stream",
     "text": [
      "cool city\n"
     ]
    }
   ],
   "source": [
    "city_name = \"Leipzig\"\n",
    "\n",
    "### your solution ###\n",
    "\n",
    "if city_name == \"Berlin\":\n",
    "    print(\"capital city\")\n",
    "elif city_name == \"Leipzig\":\n",
    "    print(\"cool city\")\n",
    "else:\n",
    "    print(\"normal city\")"
   ]
  },
  {
   "cell_type": "markdown",
   "metadata": {},
   "source": [
    "### Task 4\n",
    "\n",
    "Given is the speed of a car driver. Check if the person is driving within the limits of 120 km/h. For every 10 km/h above 120 km/h the person gets one penalty point.\n",
    "\n",
    "- If the speed is less than 120 km/h, print the string `\"ok\"`\n",
    "- If the speed is above 120 km/h, print the number of penalty points (eg. input: 160, output 4)\n",
    "- If the number of penalty points is larger than 10 print the string `\"license suspended\"`\n",
    "\n",
    "*Hint: use the floor division operator*"
   ]
  },
  {
   "cell_type": "code",
   "execution_count": 9,
   "metadata": {},
   "outputs": [
    {
     "name": "stdout",
     "output_type": "stream",
     "text": [
      "penalty points: 2\n"
     ]
    }
   ],
   "source": [
    "speed = 140\n",
    "\n",
    "### your solution ###\n",
    "\n",
    "if speed < 120:\n",
    "    print(\"ok\")\n",
    "else:\n",
    "    penalty_points = (speed-120) // 10\n",
    "    if penalty_points > 10:\n",
    "        print(\"license suspended\")\n",
    "    else:\n",
    "        print(\"penalty points: \" + str(penalty_points))"
   ]
  }
 ],
 "metadata": {
  "kernelspec": {
   "display_name": "pythonWorkshop",
   "language": "python",
   "name": "python3"
  },
  "language_info": {
   "codemirror_mode": {
    "name": "ipython",
    "version": 3
   },
   "file_extension": ".py",
   "mimetype": "text/x-python",
   "name": "python",
   "nbconvert_exporter": "python",
   "pygments_lexer": "ipython3",
   "version": "3.12.0"
  }
 },
 "nbformat": 4,
 "nbformat_minor": 2
}
