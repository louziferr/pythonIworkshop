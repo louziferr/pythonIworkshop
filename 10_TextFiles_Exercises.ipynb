{
 "cells": [
  {
   "cell_type": "markdown",
   "metadata": {},
   "source": [
    "# Churn data\n",
    "\n",
    "Read in a dataset \"churn_data.csv\" from https://www.kaggle.com/shrutimechlearn/churn-modelling. It contains details about a bank's customers and a binary variable (*Exited*) that tells you whether the customer closed her accounts (1) or continues being a customer (0).\n",
    "\n",
    "**Reading the data**\n",
    "The first line of the csv file is the header. Read it in first and store it in a variable called *header*. Then read in all the data and store it in a variable called *data*."
   ]
  },
  {
   "cell_type": "code",
   "execution_count": null,
   "metadata": {},
   "outputs": [],
   "source": [
    "# your code"
   ]
  },
  {
   "cell_type": "markdown",
   "metadata": {},
   "source": [
    "**Check**\n",
    "\n",
    "*header* should look like\n",
    "\n",
    "'RowNumber,CustomerId,Surname,CreditScore,Geography,Gender,Age,Tenure,Balance,\n",
    "NumOfProducts,HasCrCard,IsActiveMember,EstimatedSalary,Exited\\n'\n",
    "\n",
    "\n",
    "*data* should start like\n",
    "\n",
    "['1,15634602,Hargrave,619,France,Female,42,2,0,1,1,1,101348.88,1\\n',\n",
    " '2,15647311,Hill,608,Spain,Female,41,1,83807.86,1,0,1,112542.58,0\\n',\n",
    " '3,15619304,Onio,502,France,Female,42,8,159660.8,3,1,0,113931.57,1\\n',\n",
    " '4,15701354,Boni,699,France,Female,39,1,0,2,0,0,93826.63,0\\n',\n",
    " '5,15737888,Mitchell,850,Spain,Female,43,2,125510.82,1,1,1,79084.1,0\\n',\n",
    " '6,15574012,Chu,645,Spain,Male,44,8,113755.78,2,1,0,149756.71,1\\n', ...]"
   ]
  },
  {
   "cell_type": "markdown",
   "metadata": {},
   "source": [
    "**Writing the subset of German customers to a new file**\n",
    "\n",
    "First, process the data, so that the customer entries are lists of strings:\n",
    "\n",
    "[ ['1',\n",
    "  '15634602',\n",
    "  'Hargrave',\n",
    "  '619',\n",
    "  'France',\n",
    "  'Female',\n",
    "  '42',\n",
    "  '2',\n",
    "  '0',\n",
    "  '1',\n",
    "  '1',\n",
    "  '1',\n",
    "  '101348.88',\n",
    "  '1\\n'],\n",
    " \n",
    " ['2',\n",
    "  '15647311',\n",
    "  'Hill',\n",
    "  '608',\n",
    "  'Spain',\n",
    "  'Female',\n",
    "  '41',\n",
    "  '1',\n",
    "  '83807.86',\n",
    "  '1',\n",
    "  '0',\n",
    "  '1',\n",
    "  '112542.58',\n",
    "  '0\\n'],\n",
    " \n",
    " ['3',\n",
    "  '15619304',\n",
    "  'Onio',\n",
    "  '502',\n",
    "  'France',\n",
    "  'Female',\n",
    "  '42',\n",
    "  '8',\n",
    "  '159660.8',\n",
    "  '3',\n",
    "  '1',\n",
    "  '0',\n",
    "  '113931.57',\n",
    "  '1\\n'], ...]\n",
    "  \n",
    "(Don't worry about transforming the numbers to integers or floats or removing the end-of-sequence marker \\n, yet. It's not needed for what we want to do with this data right now.)"
   ]
  },
  {
   "cell_type": "code",
   "execution_count": 32,
   "metadata": {},
   "outputs": [],
   "source": [
    "# your code"
   ]
  },
  {
   "cell_type": "markdown",
   "metadata": {},
   "source": [
    "Then, create a new list called *churn_data_ger* with only the German customers.\n",
    "\n",
    "*Hint: Use a for loop and an if statement*"
   ]
  },
  {
   "cell_type": "code",
   "execution_count": null,
   "metadata": {},
   "outputs": [],
   "source": [
    "# your code"
   ]
  },
  {
   "cell_type": "markdown",
   "metadata": {},
   "source": [
    "**Check**\n",
    "\n",
    "*churn_data_ger* should start like\n",
    "\n",
    "[['8',\n",
    "  '15656148',\n",
    "  'Obinna',\n",
    "  '376',\n",
    "  'Germany',\n",
    "  'Female',\n",
    "  '29',\n",
    "  '4',\n",
    "  '115046.74',\n",
    "  '4',\n",
    "  '1',\n",
    "  '0',\n",
    "  '119346.88',\n",
    "  '1\\n'],\n",
    "  \n",
    " ['16',\n",
    "  '15643966',\n",
    "  'Goforth',\n",
    "  '616',\n",
    "  'Germany',\n",
    "  'Male',\n",
    "  '45',\n",
    "  '3',\n",
    "  '143129.41',\n",
    "  '2',\n",
    "  '0',\n",
    "  '1',\n",
    "  '64327.26',\n",
    "  '0\\n'],\n",
    "  \n",
    " ['17',\n",
    "  '15737452',\n",
    "  'Romeo',\n",
    "  '653',\n",
    "  'Germany',\n",
    "  'Male',\n",
    "  '58',\n",
    "  '1',\n",
    "  '132602.88',\n",
    "  '1',\n",
    "  '1',\n",
    "  '0',\n",
    "  '5097.67',\n",
    "  '1\\n'],...]\n"
   ]
  },
  {
   "cell_type": "markdown",
   "metadata": {},
   "source": [
    "Now, use the counterpart to \n",
    "\n",
    "                                str.split(\",\") \n",
    "which is\n",
    "    \n",
    "                                 \",\".join(iterable)\n",
    "                                 \n",
    "To turn the sublists of *churn_data_ger* into strings, with entries seperated by \",\":"
   ]
  },
  {
   "cell_type": "code",
   "execution_count": null,
   "metadata": {},
   "outputs": [],
   "source": [
    "# your code"
   ]
  },
  {
   "cell_type": "markdown",
   "metadata": {},
   "source": [
    "*churn_data_ger* should now look like\n",
    "\n",
    "['8,15656148,Obinna,376,Germany,Female,29,4,115046.74,4,1,0,119346.88,1\\n',\n",
    " '16,15643966,Goforth,616,Germany,Male,45,3,143129.41,2,0,1,64327.26,0\\n',\n",
    " '17,15737452,Romeo,653,Germany,Male,58,1,132602.88,1,1,0,5097.67,1\\n',...]"
   ]
  },
  {
   "cell_type": "markdown",
   "metadata": {},
   "source": [
    "Now, create a new csv file called \"churn_data_german.csv\" with *header* as the first line and the german customer churn data as the following lines.\n",
    "\n",
    "Note: Because you will need this file in the exercises about plotting, a churn_data_german_provided.csv is included in the exercises folder."
   ]
  },
  {
   "cell_type": "code",
   "execution_count": null,
   "metadata": {},
   "outputs": [],
   "source": [
    "# your code"
   ]
  }
 ],
 "metadata": {
  "kernelspec": {
   "display_name": "Python 3",
   "language": "python",
   "name": "python3"
  },
  "language_info": {
   "codemirror_mode": {
    "name": "ipython",
    "version": 3
   },
   "file_extension": ".py",
   "mimetype": "text/x-python",
   "name": "python",
   "nbconvert_exporter": "python",
   "pygments_lexer": "ipython3",
   "version": "3.7.6"
  }
 },
 "nbformat": 4,
 "nbformat_minor": 4
}
