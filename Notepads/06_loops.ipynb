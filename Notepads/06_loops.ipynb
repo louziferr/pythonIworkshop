{
 "cells": [
  {
   "cell_type": "markdown",
   "metadata": {},
   "source": [
    "# Loops"
   ]
  },
  {
   "cell_type": "markdown",
   "metadata": {},
   "source": [
    "## While Loop\n",
    "\n",
    "Execute a piece of code over and over again **as long as a given condition holds True**.\n",
    "\n",
    "                    while condition:\n",
    "                        block of code to execute repeadetly\n",
    "                             \n",
    "                     next statement\n",
    "\n",
    "                        "
   ]
  },
  {
   "cell_type": "code",
   "execution_count": 1,
   "metadata": {},
   "outputs": [
    {
     "name": "stdout",
     "output_type": "stream",
     "text": [
      "12\n"
     ]
    }
   ],
   "source": [
    "counter = 0\n",
    "while counter <= 10:\n",
    "    counter = counter + 2\n",
    "    \n",
    "print(counter)"
   ]
  },
  {
   "cell_type": "code",
   "execution_count": 6,
   "metadata": {},
   "outputs": [
    {
     "ename": "KeyboardInterrupt",
     "evalue": "",
     "output_type": "error",
     "traceback": [
      "\u001b[0;31m---------------------------------------------------------------------------\u001b[0m",
      "\u001b[0;31mKeyboardInterrupt\u001b[0m                         Traceback (most recent call last)",
      "\u001b[0;32m<ipython-input-6-f3de4596bd25>\u001b[0m in \u001b[0;36m<module>\u001b[0;34m\u001b[0m\n\u001b[1;32m      1\u001b[0m \u001b[0mi\u001b[0m \u001b[0;34m=\u001b[0m \u001b[0;36m0\u001b[0m\u001b[0;34m\u001b[0m\u001b[0;34m\u001b[0m\u001b[0m\n\u001b[0;32m----> 2\u001b[0;31m \u001b[0;32mwhile\u001b[0m \u001b[0mi\u001b[0m\u001b[0;34m>=\u001b[0m\u001b[0;36m0\u001b[0m\u001b[0;34m:\u001b[0m\u001b[0;34m\u001b[0m\u001b[0;34m\u001b[0m\u001b[0m\n\u001b[0m\u001b[1;32m      3\u001b[0m     \u001b[0mi\u001b[0m \u001b[0;34m+=\u001b[0m \u001b[0;36m1\u001b[0m\u001b[0;34m\u001b[0m\u001b[0;34m\u001b[0m\u001b[0m\n",
      "\u001b[0;31mKeyboardInterrupt\u001b[0m: "
     ]
    }
   ],
   "source": [
    "i = 0\n",
    "while i>=0:\n",
    "    i += 1"
   ]
  },
  {
   "cell_type": "code",
   "execution_count": 7,
   "metadata": {},
   "outputs": [
    {
     "data": {
      "text/plain": [
       "384291040"
      ]
     },
     "execution_count": 7,
     "metadata": {},
     "output_type": "execute_result"
    }
   ],
   "source": [
    "i"
   ]
  },
  {
   "cell_type": "markdown",
   "metadata": {},
   "source": [
    "## For Loop\n",
    "\n",
    "Execute a piece of code over and over again **for every element in a sequence**.\n",
    "\n",
    "                 for variable in iterable:\n",
    "                     block of code to execute repeadetly\n",
    "\n",
    "                 next statement\n",
    "\n",
    "**Reminder**: An *iterable* is an object which you can iterate over as a collection. It can return its members one at a time.\n",
    "Examples: All sequence typts (lists, strings, tuples), dictionaries, file objects"
   ]
  },
  {
   "cell_type": "markdown",
   "metadata": {},
   "source": [
    "Simple example:"
   ]
  },
  {
   "cell_type": "code",
   "execution_count": 8,
   "metadata": {},
   "outputs": [
    {
     "name": "stdout",
     "output_type": "stream",
     "text": [
      "Apple\n",
      "Asus\n",
      "Dell\n",
      "Samsung\n"
     ]
    }
   ],
   "source": [
    "computer_brands = [\"Apple\", \"Asus\", \"Dell\", \"Samsung\"]\n",
    "\n",
    "for x in computer_brands:\n",
    "    print(x)"
   ]
  },
  {
   "cell_type": "markdown",
   "metadata": {},
   "source": [
    "Do the same with a while loop:"
   ]
  },
  {
   "cell_type": "code",
   "execution_count": 9,
   "metadata": {},
   "outputs": [
    {
     "name": "stdout",
     "output_type": "stream",
     "text": [
      "Apple\n",
      "Asus\n",
      "Dell\n",
      "Samsung\n"
     ]
    }
   ],
   "source": [
    "computer_brands = [\"Apple\", \"Asus\", \"Dell\", \"Samsung\"]\n",
    "i = 0\n",
    "while i < len(computer_brands):\n",
    "    print(computer_brands[i])\n",
    "    i = i + 1"
   ]
  },
  {
   "cell_type": "markdown",
   "metadata": {},
   "source": [
    "Another example:"
   ]
  },
  {
   "cell_type": "code",
   "execution_count": 10,
   "metadata": {},
   "outputs": [
    {
     "name": "stdout",
     "output_type": "stream",
     "text": [
      "150\n"
     ]
    }
   ],
   "source": [
    "numbers = [1,10,20,30,40,50]\n",
    "\n",
    "num_sum = 0\n",
    "\n",
    "for num in numbers:\n",
    "    if num>9:\n",
    "        #num_sum = num_sum + num\n",
    "        num_sum += num\n",
    "    \n",
    "print(num_sum)"
   ]
  },
  {
   "cell_type": "markdown",
   "metadata": {},
   "source": [
    "A nested for loop:\n",
    "\n",
    "Loop over the elements of this matrix:\n",
    "$$\\begin{pmatrix} \n",
    "1 & 5&7\\\\\n",
    "2&8&4\\\\\n",
    "3&1&2\n",
    "\\end{pmatrix}$$\n"
   ]
  },
  {
   "cell_type": "code",
   "execution_count": 11,
   "metadata": {},
   "outputs": [
    {
     "name": "stdout",
     "output_type": "stream",
     "text": [
      "1\n",
      "5\n",
      "7\n",
      "2\n",
      "8\n",
      "4\n",
      "3\n",
      "1\n",
      "2\n"
     ]
    }
   ],
   "source": [
    "nested_list = [[1,5,7], [2,8,4], [3,1,2]]\n",
    "\n",
    "for row in nested_list:\n",
    "    for element in row:\n",
    "        print(element)"
   ]
  },
  {
   "cell_type": "markdown",
   "metadata": {},
   "source": [
    "### range\n",
    "\n",
    "range is another sequence type. Its represents an *immutable* sequence of numbers.\n",
    "\n",
    "How to construct a range:\n",
    "- range(stop)\n",
    "- range(start, stop)\n",
    "- range(start, stop, step)"
   ]
  },
  {
   "cell_type": "code",
   "execution_count": 14,
   "metadata": {},
   "outputs": [
    {
     "name": "stdout",
     "output_type": "stream",
     "text": [
      "hello\n",
      "hello\n",
      "hello\n",
      "hello\n",
      "hello\n"
     ]
    }
   ],
   "source": [
    "for _ in range(5):\n",
    "    print(\"hello\")"
   ]
  },
  {
   "cell_type": "code",
   "execution_count": 16,
   "metadata": {},
   "outputs": [
    {
     "name": "stdout",
     "output_type": "stream",
     "text": [
      "3\n",
      "5\n",
      "7\n",
      "9\n"
     ]
    }
   ],
   "source": [
    "for i in range(3,10,2):\n",
    "    print(i)"
   ]
  },
  {
   "cell_type": "markdown",
   "metadata": {},
   "source": [
    "### Built-in functions relevant for loops"
   ]
  },
  {
   "cell_type": "markdown",
   "metadata": {},
   "source": [
    "#### enumerate(iterable)\n",
    "\n",
    "enumerate() takes an iterable and enumerates its elements.\n",
    "\n",
    "Returns an object that aggregates the count and the element in tuples:\n",
    "\n",
    "*(0, element 0)*\n",
    "\n",
    "*(1, element 1)*\n",
    "\n",
    "*(2, element 2)*\n",
    "\n",
    "...\n",
    "\n",
    "*(N, element N)*\n",
    "\n",
    "You can loop over this enumerate object to get each tuple one by one.\n",
    "\n",
    "Once you have looped over the enumerate object, it is \"empty\"."
   ]
  },
  {
   "cell_type": "code",
   "execution_count": 17,
   "metadata": {},
   "outputs": [
    {
     "name": "stdout",
     "output_type": "stream",
     "text": [
      "0 Apple\n",
      "1 Asus\n",
      "2 Dell\n",
      "3 Samsung\n"
     ]
    }
   ],
   "source": [
    "computer_brands = [\"Apple\", \"Asus\", \"Dell\", \"Samsung\"]\n",
    "\n",
    "for i, item in enumerate(computer_brands):\n",
    "    print(i, item)"
   ]
  },
  {
   "cell_type": "code",
   "execution_count": 18,
   "metadata": {},
   "outputs": [
    {
     "name": "stdout",
     "output_type": "stream",
     "text": [
      "(0, 'Apple')\n",
      "(1, 'Asus')\n",
      "(2, 'Dell')\n",
      "(3, 'Samsung')\n"
     ]
    }
   ],
   "source": [
    "for x in enumerate(computer_brands):\n",
    "    print(x)"
   ]
  },
  {
   "cell_type": "markdown",
   "metadata": {},
   "source": [
    "#### zip(iterable_0, iterable_1, ..., iterable_M)\n",
    "\n",
    "zip() makes it possible to loop over multiple iterables in one for loop.\n",
    "\n",
    "zip() takes in iterables as arguments.\n",
    "\n",
    "Returns an object that aggregates the elements from each of the iterables in tuples:\n",
    "\n",
    "*(element 0 of sequence 0, element 0 of sequence 1, ..., element 0 of sequence M)*\n",
    "\n",
    "*(element 1 of sequence 0, element 1 of sequence 1, ..., element 1 of sequence M)*\n",
    "\n",
    "*(element 2 of sequence 0, element 2 of sequence 1, ..., element 2 of sequence M )*\n",
    "\n",
    "...\n",
    "\n",
    "*(element N of sequence 0, element N of sequence 1, ..., element N of sequence M )*\n",
    "\n",
    "You can loop over this zip object to get each tuple one by one.\n",
    "\n",
    "Once you have looped over the zip object, it is \"empty\"."
   ]
  },
  {
   "cell_type": "code",
   "execution_count": 19,
   "metadata": {},
   "outputs": [
    {
     "name": "stdout",
     "output_type": "stream",
     "text": [
      "('Apple', 1976)\n",
      "('Asus', 1989)\n",
      "('Dell', 1984)\n",
      "('Samsung', 1938)\n"
     ]
    }
   ],
   "source": [
    "computer_brands = [\"Apple\", \"Asus\", \"Dell\", \"Samsung\"]\n",
    "founded_year = [1976, 1989, 1984, 1938]\n",
    "\n",
    "for tup in zip(computer_brands, founded_year):\n",
    "    print(tup)"
   ]
  },
  {
   "cell_type": "code",
   "execution_count": 20,
   "metadata": {},
   "outputs": [
    {
     "name": "stdout",
     "output_type": "stream",
     "text": [
      "Apple 1976\n",
      "Asus 1989\n",
      "Dell 1984\n",
      "Samsung 1938\n"
     ]
    }
   ],
   "source": [
    "for brand, year in zip(computer_brands, founded_year):\n",
    "    print(brand, year)"
   ]
  },
  {
   "cell_type": "markdown",
   "metadata": {},
   "source": [
    "## List comprehensions\n",
    "\n",
    "Create a new iterable based on another iterable in a single line!\n",
    "\n",
    "Basic syntax for lists:\n",
    "\n",
    "                 [expression for item in list]\n",
    "      \n",
    "equivilant to:\n",
    "\n",
    "                new_list = []\n",
    "                for item in list:\n",
    "                    new_list.append(expression)\n",
    "\n",
    "With an If statement:\n",
    "\n",
    "                 [expression for item in iterable if condition]\n",
    "equivilant to:\n",
    "\n",
    "                new_list = []\n",
    "                for item in list:\n",
    "                    if condition:\n",
    "                        new_list.append(expression)"
   ]
  },
  {
   "cell_type": "code",
   "execution_count": 21,
   "metadata": {},
   "outputs": [
    {
     "data": {
      "text/plain": [
       "['the', 'quick', 'brown', 'fox', 'jumps', 'over', 'the', 'lazy', 'dog']"
      ]
     },
     "execution_count": 21,
     "metadata": {},
     "output_type": "execute_result"
    }
   ],
   "source": [
    "sentence = \"the quick brown fox jumps over the lazy dog\"\n",
    "words = sentence.split()\n",
    "\n",
    "words"
   ]
  },
  {
   "cell_type": "markdown",
   "metadata": {},
   "source": [
    "Create a list of integers which specify the length of each word in a certain sentence, but only if the word is not the word \"the\":"
   ]
  },
  {
   "cell_type": "code",
   "execution_count": 22,
   "metadata": {},
   "outputs": [
    {
     "name": "stdout",
     "output_type": "stream",
     "text": [
      "[5, 5, 3, 5, 4, 4, 3]\n"
     ]
    }
   ],
   "source": [
    "word_lengths = []\n",
    "for word in words:\n",
    "      if word != \"the\":\n",
    "            word_lengths.append(len(word))\n",
    "print(word_lengths)"
   ]
  },
  {
   "cell_type": "markdown",
   "metadata": {},
   "source": [
    "Do the same using a list comprehension:"
   ]
  },
  {
   "cell_type": "code",
   "execution_count": 23,
   "metadata": {},
   "outputs": [
    {
     "data": {
      "text/plain": [
       "[5, 5, 3, 5, 4, 4, 3]"
      ]
     },
     "execution_count": 23,
     "metadata": {},
     "output_type": "execute_result"
    }
   ],
   "source": [
    "word_lenghts = [len(word) for word in words if word != \"the\"]\n",
    "\n",
    "word_lenghts"
   ]
  }
 ],
 "metadata": {
  "kernelspec": {
   "display_name": "Python 3",
   "language": "python",
   "name": "python3"
  },
  "language_info": {
   "codemirror_mode": {
    "name": "ipython",
    "version": 3
   },
   "file_extension": ".py",
   "mimetype": "text/x-python",
   "name": "python",
   "nbconvert_exporter": "python",
   "pygments_lexer": "ipython3",
   "version": "3.7.6"
  }
 },
 "nbformat": 4,
 "nbformat_minor": 4
}
