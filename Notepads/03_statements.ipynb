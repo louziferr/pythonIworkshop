{
 "cells": [
  {
   "cell_type": "markdown",
   "metadata": {},
   "source": [
    "# If statements\n",
    "\n",
    "If statements are used for conditional execution.\n",
    "\n",
    "### Simple if statement\n",
    "Syntax:\n",
    "\n",
    "    if *condition* :\n",
    "        indented statement block\n"
   ]
  },
  {
   "cell_type": "code",
   "execution_count": 3,
   "metadata": {},
   "outputs": [
    {
     "name": "stdout",
     "output_type": "stream",
     "text": [
      "x is negative\n",
      "next\n"
     ]
    }
   ],
   "source": [
    "x = -3\n",
    "\n",
    "if x<0:\n",
    "    print(\"x is negative\")\n",
    "    \n",
    "print(\"next\")"
   ]
  },
  {
   "cell_type": "markdown",
   "metadata": {},
   "source": [
    "### If else statement\n",
    "\n",
    "The else statement is optional. There can be at most one else statement with one if statement.\n",
    "\n",
    "Syntax:\n",
    "\n",
    "    if *condition* :\n",
    "        indented statement block for true condition\n",
    "    else:\n",
    "        indented statement block for false condition"
   ]
  },
  {
   "cell_type": "code",
   "execution_count": 6,
   "metadata": {},
   "outputs": [
    {
     "name": "stdout",
     "output_type": "stream",
     "text": [
      "x is negative\n",
      "next\n"
     ]
    }
   ],
   "source": [
    "x = -3\n",
    "\n",
    "if x<0:\n",
    "    print(\"x is negative\")\n",
    "else:\n",
    "    print(\"x is positive\")\n",
    "    \n",
    "print(\"next\")"
   ]
  },
  {
   "cell_type": "markdown",
   "metadata": {},
   "source": [
    "### If elif statement\n",
    "\n",
    "The elif statement is optional. There can be more than one elif with one if statement, so you can check multiple conditions for true.\n",
    "\n",
    "Syntax:\n",
    "\n",
    "    if *condition 1* :\n",
    "        indented statement block for true condition 1\n",
    "    elif *condition 2*:\n",
    "        indented statement block for true condition 2 (executed when condition 1 is false)\n",
    "    elif *condition 3*:\n",
    "        indented statement block for true condition 3 (executed when condition 1 & 2 are false)\n",
    "    (else:\n",
    "        indented statement block for false conditions 1,2,3)"
   ]
  },
  {
   "cell_type": "code",
   "execution_count": 15,
   "metadata": {},
   "outputs": [
    {
     "name": "stdout",
     "output_type": "stream",
     "text": [
      "x is five\n",
      "x is an integer\n"
     ]
    }
   ],
   "source": [
    "x = 5\n",
    "\n",
    "if x<0:\n",
    "    print(\"x is negative\")\n",
    "elif x==5:\n",
    "    print(\"x is five\")\n",
    "elif type(x) is int:\n",
    "    print(\"x is an integer\")\n",
    "else:\n",
    "    print(\"x is positive\")\n",
    "    \n"
   ]
  },
  {
   "cell_type": "markdown",
   "metadata": {},
   "source": [
    "## Examples"
   ]
  },
  {
   "cell_type": "markdown",
   "metadata": {},
   "source": [
    "**Triangle**\n",
    "\n",
    "Given the 3 sides of a triangle – x, y and z – determine whether the triangle is equilateral, isosceles or obtuse.\n",
    "\n",
    "Equilateral means all sides are equal, isosceles means two of the sides are equal but not the third one, obtuse means all 3 are different."
   ]
  },
  {
   "cell_type": "code",
   "execution_count": null,
   "metadata": {},
   "outputs": [],
   "source": [
    "x = 2\n",
    "y = 3\n",
    "z = 4\n",
    "\n",
    "\n",
    "if x>=y+z or y>= x+z or z>= x+y: \n",
    "    print(\"The triangle does not exist\")\n",
    "elif x==y and x==z: \n",
    "    print (\"Equilateral\") \n",
    "elif x==y or x==z or y==z:\n",
    "    print (\"Isosceles\")\n",
    "else:\n",
    "    print(\"Obtuse\")"
   ]
  },
  {
   "cell_type": "markdown",
   "metadata": {},
   "source": [
    "**Nested if statement**"
   ]
  },
  {
   "cell_type": "code",
   "execution_count": null,
   "metadata": {},
   "outputs": [],
   "source": [
    "x = 3\n",
    "\n",
    "if type(x) is int or type(x) is float:\n",
    "    if x<0:\n",
    "        print(\"x is negative\")\n",
    "    else:\n",
    "        print(\"x is positive\")\n",
    "else:\n",
    "    print(\"x is not a number\")"
   ]
  }
 ],
 "metadata": {
  "kernelspec": {
   "display_name": "Python 3",
   "language": "python",
   "name": "python3"
  },
  "language_info": {
   "codemirror_mode": {
    "name": "ipython",
    "version": 3
   },
   "file_extension": ".py",
   "mimetype": "text/x-python",
   "name": "python",
   "nbconvert_exporter": "python",
   "pygments_lexer": "ipython3",
   "version": "3.10.5"
  }
 },
 "nbformat": 4,
 "nbformat_minor": 4
}
