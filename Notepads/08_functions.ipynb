{
 "cells": [
  {
   "cell_type": "markdown",
   "metadata": {},
   "source": [
    "# Functions"
   ]
  },
  {
   "cell_type": "markdown",
   "metadata": {},
   "source": [
    "**Why are functions needed?**\n",
    "\n",
    "- Reduce code tasks into simple tasks\n",
    "\n",
    "- Reuse code and eliminate duplicate code\n",
    "\n",
    "- Get a good structure of the code\n",
    "\n",
    "\n",
    "## Defining a function\n",
    "- a function block begins with the keyword **def** followed by the function name and parentheses. \n",
    "\n",
    "- a function has to be named\n",
    "\n",
    "- you need to specify what parameters it has\n",
    "\n",
    "A function can use a number of arguments. Every argument responds to a parameter in the function. \n",
    "\n",
    "- a function often ends by returning a value using return. \n",
    "\n",
    "                                 def function_name(argument1, argument2):\n",
    "                                      ... \n",
    "                                      do anything with argument1 & argument2\n",
    "                                      and obtain a result\n",
    "                                      ...\n",
    "                                      return result\n",
    "                                      \n",
    "## Code blocks\n",
    "Python code is structured into blocks. \n",
    "\n",
    "- A block is a group of statements \n",
    "- The group can be treated as one single statement. \n",
    "- Blocks can also contain other blocks (nested block structure)\n",
    "\n",
    "Python uses indentation to seperate the code into blocks. \n",
    "\n",
    "Lines of code belonging to one block have the same distance to the left. The unit of the distance to the left are 4 white spaces.\n",
    "\n",
    "This principle makes Python code much more readable as it gives it a logic structure. \n",
    "\n",
    "![title](blocks.png)\n",
    "source: https://www.python-course.eu/blocks.php\n",
    "\n",
    "Another way to structure code into blocks are curly brackets: { ... }\n",
    "\n",
    "It's by far the most common approach, used by C, C++, Perl, Java, and many other programming languages.\n",
    "The following examples shows a conditional statement in C:\n",
    "\n",
    "    if (x==42) {\n",
    "        printf(\"The Answer to the Ultimate Question of Life, the Universe, and Everything\\n\");\n",
    "    } else {\n",
    "        printf(\"Just a number!\\n\");\n",
    "    }"
   ]
  },
  {
   "cell_type": "code",
   "execution_count": 4,
   "metadata": {},
   "outputs": [],
   "source": [
    "def very_simple():\n",
    "    print(\"Hello\")"
   ]
  },
  {
   "cell_type": "markdown",
   "metadata": {},
   "source": [
    "To call a function, use its name followed by parantheses. Program execution goes off to the body of code inside that function."
   ]
  },
  {
   "cell_type": "code",
   "execution_count": 5,
   "metadata": {},
   "outputs": [
    {
     "name": "stdout",
     "output_type": "stream",
     "text": [
      "Hello\n"
     ]
    }
   ],
   "source": [
    "very_simple()"
   ]
  },
  {
   "cell_type": "code",
   "execution_count": 6,
   "metadata": {},
   "outputs": [
    {
     "data": {
      "text/plain": [
       "<function __main__.very_simple()>"
      ]
     },
     "execution_count": 6,
     "metadata": {},
     "output_type": "execute_result"
    }
   ],
   "source": [
    "very_simple"
   ]
  },
  {
   "cell_type": "code",
   "execution_count": 7,
   "metadata": {},
   "outputs": [],
   "source": [
    "def simple(name):\n",
    "    print(\"Hello\", name)"
   ]
  },
  {
   "cell_type": "code",
   "execution_count": 8,
   "metadata": {},
   "outputs": [
    {
     "name": "stdout",
     "output_type": "stream",
     "text": [
      "Hello Johanna\n"
     ]
    }
   ],
   "source": [
    "simple(\"Johanna\")"
   ]
  },
  {
   "cell_type": "markdown",
   "metadata": {},
   "source": [
    "## The return statement\n",
    "\n",
    "The return statement serves two purposes:\n",
    "\n",
    "1) it terminates the function immediately \n",
    "\n",
    "2) it can pass data back to the environment where the function was called"
   ]
  },
  {
   "cell_type": "code",
   "execution_count": 9,
   "metadata": {},
   "outputs": [
    {
     "name": "stdout",
     "output_type": "stream",
     "text": [
      "Hello Johanna\n"
     ]
    }
   ],
   "source": [
    "def simple(name):\n",
    "    print(\"Hello\", name)\n",
    "    return\n",
    "simple(\"Johanna\")"
   ]
  },
  {
   "cell_type": "code",
   "execution_count": 10,
   "metadata": {},
   "outputs": [
    {
     "name": "stdout",
     "output_type": "stream",
     "text": [
      "5\n"
     ]
    }
   ],
   "source": [
    "def add_2(number):\n",
    "    number_out = number + 2\n",
    "    return number_out\n",
    "\n",
    "new_number = add_2(3)\n",
    "print(new_number)"
   ]
  },
  {
   "cell_type": "code",
   "execution_count": 11,
   "metadata": {},
   "outputs": [
    {
     "ename": "NameError",
     "evalue": "name 'number_out' is not defined",
     "output_type": "error",
     "traceback": [
      "\u001b[0;31m---------------------------------------------------------------------------\u001b[0m",
      "\u001b[0;31mNameError\u001b[0m                                 Traceback (most recent call last)",
      "\u001b[0;32m<ipython-input-11-4a35a9e2588a>\u001b[0m in \u001b[0;36m<module>\u001b[0;34m\u001b[0m\n\u001b[0;32m----> 1\u001b[0;31m \u001b[0mnumber_out\u001b[0m\u001b[0;34m\u001b[0m\u001b[0;34m\u001b[0m\u001b[0m\n\u001b[0m",
      "\u001b[0;31mNameError\u001b[0m: name 'number_out' is not defined"
     ]
    }
   ],
   "source": [
    "number_out"
   ]
  },
  {
   "cell_type": "markdown",
   "metadata": {},
   "source": [
    "Return does not need to be at the end of the function code block and there can be multiple return in one function:"
   ]
  },
  {
   "cell_type": "code",
   "execution_count": 12,
   "metadata": {},
   "outputs": [
    {
     "name": "stdout",
     "output_type": "stream",
     "text": [
      "6\n"
     ]
    }
   ],
   "source": [
    "def add_3(number):\n",
    "    number_out = number + 3\n",
    "    return number_out\n",
    "    number_out_2 = number_out + 3\n",
    "    return number_out_2\n",
    "\n",
    "new_number = add_3(3)\n",
    "print(new_number)"
   ]
  },
  {
   "cell_type": "markdown",
   "metadata": {},
   "source": [
    "You can give several values to return. They will be packed and returned as a *tuple*."
   ]
  },
  {
   "cell_type": "code",
   "execution_count": 13,
   "metadata": {},
   "outputs": [
    {
     "name": "stdout",
     "output_type": "stream",
     "text": [
      "(6, 7)\n"
     ]
    }
   ],
   "source": [
    "def add_4_and_5(number):\n",
    "    number_out_1 = number + 4\n",
    "    number_out_2 = number + 5\n",
    "    return number_out_1, number_out_2\n",
    "\n",
    "new_number = add_4_and_5(2)\n",
    "print(new_number)"
   ]
  },
  {
   "cell_type": "markdown",
   "metadata": {},
   "source": [
    "When there is no value given to return, the function returns \n",
    "                                    \n",
    "                                    None\n",
    "                                    \n",
    "which is a special object in Python that signifies \"empty\"."
   ]
  },
  {
   "cell_type": "code",
   "execution_count": 14,
   "metadata": {},
   "outputs": [
    {
     "name": "stdout",
     "output_type": "stream",
     "text": [
      "None\n"
     ]
    }
   ],
   "source": [
    "def add_6(number):\n",
    "    number_out = number + 6\n",
    "    return \n",
    "\n",
    "new_number = add_6(2)\n",
    "print(new_number)"
   ]
  },
  {
   "cell_type": "markdown",
   "metadata": {},
   "source": [
    "print() vs. return"
   ]
  },
  {
   "cell_type": "code",
   "execution_count": 16,
   "metadata": {},
   "outputs": [
    {
     "name": "stdout",
     "output_type": "stream",
     "text": [
      "9\n",
      "10\n"
     ]
    }
   ],
   "source": [
    "def add_7_8(number):\n",
    "    print(number+7)\n",
    "    number_out = number + 8\n",
    "    return number_out\n",
    "\n",
    "new_number = add_7_8(2)\n",
    "print(new_number)"
   ]
  },
  {
   "cell_type": "markdown",
   "metadata": {},
   "source": [
    "## Passing arguments"
   ]
  },
  {
   "cell_type": "markdown",
   "metadata": {},
   "source": [
    "### Positional vs. keyword arguments"
   ]
  },
  {
   "cell_type": "code",
   "execution_count": 17,
   "metadata": {},
   "outputs": [],
   "source": [
    "def price(item, quantity, price):\n",
    "    print(quantity, item, \"cost\", price, \"€\")"
   ]
  },
  {
   "cell_type": "code",
   "execution_count": 18,
   "metadata": {},
   "outputs": [
    {
     "name": "stdout",
     "output_type": "stream",
     "text": [
      "3 apples cost 2.5 €\n"
     ]
    }
   ],
   "source": [
    "price(\"apples\", 3, 2.5)"
   ]
  },
  {
   "cell_type": "markdown",
   "metadata": {},
   "source": [
    "One can use keyword arguments instead:"
   ]
  },
  {
   "cell_type": "code",
   "execution_count": 19,
   "metadata": {},
   "outputs": [
    {
     "name": "stdout",
     "output_type": "stream",
     "text": [
      "3 apples cost 2.5 €\n"
     ]
    }
   ],
   "source": [
    "price(item=\"apples\", quantity=3, price=2.5)"
   ]
  },
  {
   "cell_type": "markdown",
   "metadata": {},
   "source": [
    "The order of the arguments does not matter when using keyword arguments."
   ]
  },
  {
   "cell_type": "code",
   "execution_count": 20,
   "metadata": {},
   "outputs": [
    {
     "name": "stdout",
     "output_type": "stream",
     "text": [
      "3 apples cost 2.5 €\n"
     ]
    }
   ],
   "source": [
    "price(quantity=3, price=2.5, item=\"apples\")"
   ]
  },
  {
   "cell_type": "markdown",
   "metadata": {},
   "source": [
    "One can also use a combination of positional and keyword arguments:"
   ]
  },
  {
   "cell_type": "code",
   "execution_count": 24,
   "metadata": {},
   "outputs": [
    {
     "name": "stdout",
     "output_type": "stream",
     "text": [
      "3 apples cost 2.5 €\n"
     ]
    }
   ],
   "source": [
    "price(\"apples\", quantity=3, price=2.5)"
   ]
  },
  {
   "cell_type": "markdown",
   "metadata": {},
   "source": [
    "In that case, the order of the arguments matters:"
   ]
  },
  {
   "cell_type": "code",
   "execution_count": 25,
   "metadata": {},
   "outputs": [
    {
     "name": "stdout",
     "output_type": "stream",
     "text": [
      "3 apples cost 2.5 €\n"
     ]
    }
   ],
   "source": [
    "price(\"apples\", price=2.5, quantity=3)"
   ]
  },
  {
   "cell_type": "code",
   "execution_count": 26,
   "metadata": {},
   "outputs": [
    {
     "ename": "TypeError",
     "evalue": "price() got multiple values for argument 'item'",
     "output_type": "error",
     "traceback": [
      "\u001b[0;31m---------------------------------------------------------------------------\u001b[0m",
      "\u001b[0;31mTypeError\u001b[0m                                 Traceback (most recent call last)",
      "\u001b[0;32m<ipython-input-26-705f73a06811>\u001b[0m in \u001b[0;36m<module>\u001b[0;34m\u001b[0m\n\u001b[0;32m----> 1\u001b[0;31m \u001b[0mprice\u001b[0m\u001b[0;34m(\u001b[0m\u001b[0;36m3\u001b[0m\u001b[0;34m,\u001b[0m \u001b[0mprice\u001b[0m\u001b[0;34m=\u001b[0m\u001b[0;36m2.5\u001b[0m\u001b[0;34m,\u001b[0m \u001b[0mitem\u001b[0m\u001b[0;34m=\u001b[0m\u001b[0;34m\"apples\"\u001b[0m\u001b[0;34m)\u001b[0m\u001b[0;34m\u001b[0m\u001b[0;34m\u001b[0m\u001b[0m\n\u001b[0m",
      "\u001b[0;31mTypeError\u001b[0m: price() got multiple values for argument 'item'"
     ]
    }
   ],
   "source": [
    "price(3, price=2.5, item=\"apples\")"
   ]
  },
  {
   "cell_type": "markdown",
   "metadata": {},
   "source": [
    "### Default arguments\n",
    "Default arguments allow to omit arguments when the function is called:"
   ]
  },
  {
   "cell_type": "code",
   "execution_count": 27,
   "metadata": {},
   "outputs": [],
   "source": [
    "def price_2(item, price, quantity=3):\n",
    "    print(quantity, item, \"cost\", price, \"€\")"
   ]
  },
  {
   "cell_type": "code",
   "execution_count": 28,
   "metadata": {},
   "outputs": [
    {
     "name": "stdout",
     "output_type": "stream",
     "text": [
      "3 apples cost 2.5 €\n"
     ]
    }
   ],
   "source": [
    "price_2(\"apples\", 2.5)"
   ]
  },
  {
   "cell_type": "code",
   "execution_count": 29,
   "metadata": {},
   "outputs": [
    {
     "name": "stdout",
     "output_type": "stream",
     "text": [
      "2 apples cost 2.5 €\n"
     ]
    }
   ],
   "source": [
    "price_2(\"apples\", 2.5, quantity=2)"
   ]
  },
  {
   "cell_type": "code",
   "execution_count": 30,
   "metadata": {},
   "outputs": [
    {
     "name": "stdout",
     "output_type": "stream",
     "text": [
      "1 apples cost 2.5 €\n"
     ]
    }
   ],
   "source": [
    "price_2(\"apples\", 2.5, 1)"
   ]
  },
  {
   "cell_type": "markdown",
   "metadata": {},
   "source": [
    "### EXTRA: Python's argument passing mechanism\n",
    "\n",
    "Reference: https://realpython.com/defining-your-own-python-function"
   ]
  },
  {
   "cell_type": "markdown",
   "metadata": {},
   "source": [
    "In other programming languages, there are two major paradigms for how a variable is passed to a function:\n",
    "\n",
    "**Pass-by-value:**\n",
    "The function gets a copy of the variable to work on, it **can't change** the original variable in the environment where it was called.\n",
    "\n",
    "**Pass-by-reference:**\n",
    "The function works on the \"original variable\", so any modifications made inside the function will also apply to the variable in the calling environment.\n",
    "\n",
    "Python works with neither of the two paradigms. It's passing mechanism is called\n",
    "\n",
    "**Pass-by-assignment**\n",
    "\n",
    "What does that mean? Do Python functions change their arguments in the calling environment?\n",
    "\n",
    "Depends:"
   ]
  },
  {
   "cell_type": "markdown",
   "metadata": {},
   "source": [
    "**Not by reassigning the variable to a new object**"
   ]
  },
  {
   "cell_type": "code",
   "execution_count": 31,
   "metadata": {},
   "outputs": [
    {
     "name": "stdout",
     "output_type": "stream",
     "text": [
      "5\n"
     ]
    }
   ],
   "source": [
    "def f(y):\n",
    "    y = 10\n",
    "    \n",
    "x = 5\n",
    "f(x)\n",
    "print(x)"
   ]
  },
  {
   "cell_type": "code",
   "execution_count": 33,
   "metadata": {},
   "outputs": [
    {
     "name": "stdout",
     "output_type": "stream",
     "text": [
      "memory ID id(x) before function call   94468178490240\n",
      "memory ID id(f(x)) BEFORE reassignment 94468178490240 (value of f(x) = 5 )\n",
      "memory ID id(y) AFTER reassignment     94468178490400 (value of f(x) = 10 )\n",
      "value of x after f 5\n"
     ]
    }
   ],
   "source": [
    "def f(y):\n",
    "    print(\"memory ID id(f(x)) BEFORE reassignment\", id(y), \"(value of f(x) =\", y, \")\")\n",
    "    y = 10\n",
    "    print(\"memory ID id(y) AFTER reassignment    \", id(y), \"(value of f(x) =\", y, \")\")\n",
    "\n",
    "x = 5\n",
    "\n",
    "print(\"memory ID id(x) before function call  \", id(x))\n",
    "\n",
    "f(x)\n",
    "\n",
    "print(\"value of x after f\", x)"
   ]
  },
  {
   "cell_type": "markdown",
   "metadata": {},
   "source": [
    "<img src=\"function_reassignment_1.png\" width=\"600\"/>\n",
    "\n",
    "Takeaway: A Python function can't change the value of an argument by reassigning it to another value.\n",
    "\n",
    "\n",
    "**But by using the reference to modify a mutable object (like a list or a dictionary)**"
   ]
  },
  {
   "cell_type": "code",
   "execution_count": 34,
   "metadata": {},
   "outputs": [
    {
     "name": "stdout",
     "output_type": "stream",
     "text": [
      "[1, 2, 3, 4]\n"
     ]
    }
   ],
   "source": [
    "def g(y):\n",
    "    y.append(4)\n",
    "    \n",
    "x = [1,2,3]\n",
    "g(x)\n",
    "print(x)"
   ]
  },
  {
   "cell_type": "markdown",
   "metadata": {},
   "source": [
    "<img src=\"function_reassignment_2.png\" width=\"600\"/>\n",
    "\n",
    "g() uses the reference to the list to modify it. That way, the value of x is changed as well because x refers to the same list. "
   ]
  }
 ],
 "metadata": {
  "kernelspec": {
   "display_name": "Python 3",
   "language": "python",
   "name": "python3"
  },
  "language_info": {
   "codemirror_mode": {
    "name": "ipython",
    "version": 3
   },
   "file_extension": ".py",
   "mimetype": "text/x-python",
   "name": "python",
   "nbconvert_exporter": "python",
   "pygments_lexer": "ipython3",
   "version": "3.7.6"
  }
 },
 "nbformat": 4,
 "nbformat_minor": 4
}
