{
 "cells": [
  {
   "cell_type": "markdown",
   "metadata": {},
   "source": [
    "# Basic \n",
    "This excercise is on a list of numbers that we read in from a textfile. Reading in the textfile and creating a list from the numbers in it is done in the cell below (what happens there will be covered later). Execute the cell below before you start with the excercise."
   ]
  },
  {
   "cell_type": "code",
   "execution_count": 5,
   "metadata": {},
   "outputs": [],
   "source": [
    "# the following two lines read in all the lines from the file numbers.txt as a list\n",
    "with open(\"numbers.txt\") as f:\n",
    "    numbers = f.readlines()\n",
    "    \n",
    "# the following list comprehensions converts the elements in that list from strings to floats\n",
    "numbers = [float(n) for n in numbers]"
   ]
  },
  {
   "cell_type": "markdown",
   "metadata": {},
   "source": [
    "### (1) Find the minimum and maximum number\n",
    "store them as numbers_min and numbers_max"
   ]
  },
  {
   "cell_type": "code",
   "execution_count": null,
   "metadata": {},
   "outputs": [],
   "source": []
  },
  {
   "cell_type": "markdown",
   "metadata": {},
   "source": [
    "### (2) Sorting\n",
    "Create a new list 'numbers_sorted' that contains the numbers in 'numbers' sorted from max to min, but keep the list 'numbers' in its original order"
   ]
  },
  {
   "cell_type": "code",
   "execution_count": null,
   "metadata": {},
   "outputs": [],
   "source": []
  },
  {
   "cell_type": "markdown",
   "metadata": {},
   "source": [
    "### (3) Minimum and maximum\n",
    "Check if the 0th element of the list 'number_sorted' equals 'numbers_max' and if the last element equals numbers_min"
   ]
  },
  {
   "cell_type": "code",
   "execution_count": null,
   "metadata": {},
   "outputs": [],
   "source": []
  },
  {
   "cell_type": "markdown",
   "metadata": {},
   "source": [
    "### (4) Mean\n",
    "Calculate the mean of the numbers\n",
    "\n",
    "*Hint*: You need two built-in functions."
   ]
  },
  {
   "cell_type": "code",
   "execution_count": null,
   "metadata": {},
   "outputs": [],
   "source": []
  },
  {
   "cell_type": "markdown",
   "metadata": {},
   "source": [
    "### (5) Padding\n",
    "Create a new list 'numbers_padded' with additional 10 zeros at the beginning and at the end of the list, like:\n",
    "\n",
    "                    [0,0,0,0,0,0,0,0,0,0, number_0, number_1, ..., 0,0,0,0,0,0,0,0,0,0]\n",
    "                    \n",
    "*Hint*: Remember the operators for concatenation and repetition."
   ]
  },
  {
   "cell_type": "code",
   "execution_count": null,
   "metadata": {},
   "outputs": [],
   "source": []
  },
  {
   "cell_type": "markdown",
   "metadata": {},
   "source": [
    "After padding, do a self-check and test if the slice of the first ten and the slice of the last ten elements in the list are all zeros (do a comparison with the == operator)."
   ]
  },
  {
   "cell_type": "code",
   "execution_count": null,
   "metadata": {},
   "outputs": [],
   "source": []
  },
  {
   "cell_type": "markdown",
   "metadata": {},
   "source": [
    "# Sort a list of tuples\n",
    "\n",
    "Write a function that sorts a list of tuples in increasing order by the last element in each tuple.\n",
    "\n",
    "*Hint*: Use the key argument of the sorted() with a function you define."
   ]
  },
  {
   "cell_type": "code",
   "execution_count": 1,
   "metadata": {},
   "outputs": [],
   "source": [
    "# you can use this list to check your function\n",
    "tuple_list = [(2,3),(3,7),(3,1),(7,2)]"
   ]
  },
  {
   "cell_type": "code",
   "execution_count": 5,
   "metadata": {},
   "outputs": [
    {
     "ename": "TypeError",
     "evalue": "'int' object is not callable",
     "output_type": "error",
     "traceback": [
      "\u001b[0;31m---------------------------------------------------------------------------\u001b[0m",
      "\u001b[0;31mTypeError\u001b[0m                                 Traceback (most recent call last)",
      "\u001b[0;32m<ipython-input-5-82afcf97b325>\u001b[0m in \u001b[0;36m<module>\u001b[0;34m\u001b[0m\n\u001b[0;32m----> 1\u001b[0;31m \u001b[0msorted\u001b[0m\u001b[0;34m(\u001b[0m\u001b[0mtuple_list\u001b[0m\u001b[0;34m,\u001b[0m \u001b[0mkey\u001b[0m\u001b[0;34m=\u001b[0m\u001b[0;36m1\u001b[0m\u001b[0;34m)\u001b[0m\u001b[0;34m\u001b[0m\u001b[0;34m\u001b[0m\u001b[0m\n\u001b[0m",
      "\u001b[0;31mTypeError\u001b[0m: 'int' object is not callable"
     ]
    }
   ],
   "source": [
    "sorted(tuple_list, key=1)"
   ]
  },
  {
   "cell_type": "markdown",
   "metadata": {},
   "source": [
    "The output of your function for the given tuple_list should be \n",
    "\n",
    "                        [(3, 1), (7, 2), (2, 3), (3, 7)]"
   ]
  }
 ],
 "metadata": {
  "kernelspec": {
   "display_name": "Python 3",
   "language": "python",
   "name": "python3"
  },
  "language_info": {
   "codemirror_mode": {
    "name": "ipython",
    "version": 3
   },
   "file_extension": ".py",
   "mimetype": "text/x-python",
   "name": "python",
   "nbconvert_exporter": "python",
   "pygments_lexer": "ipython3",
   "version": "3.7.6"
  }
 },
 "nbformat": 4,
 "nbformat_minor": 4
}
